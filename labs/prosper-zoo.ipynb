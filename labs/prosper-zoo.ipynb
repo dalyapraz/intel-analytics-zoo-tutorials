{
 "cells": [
  {
   "cell_type": "markdown",
   "metadata": {},
   "source": [
    "# Analytics Zoo Neural Network : Prosper Loan Dataset\n",
    "\n",
    "We are going to look at the prosper loan dataset.  This dataset shows a history of loans made by Prosper.\n",
    "\n",
    "The idea with this dataset is to try to predict whether a loan will be \"good\" or \"bad.\" There are many ways a loan can be bad, from late payments to defaults, but we will turn this into a binary choice between \"good\" loans and \"bad\" loans.\n",
    "\n",
    "We will use a neural network in the Keras-style API in Analytics Zoo to do the prediction of \"good\" loans or \"bad.\n",
    "\n",
    "This uses Analytics Zoo.   If you want to see a \"vanilla\" Tensorflow version of this lab, click [here](./prosper-tf.ipynb)."
   ]
  },
  {
   "cell_type": "code",
   "execution_count": 2,
   "metadata": {
    "scrolled": true
   },
   "outputs": [],
   "source": [
    "from zoo.common.nncontext import init_nncontext\n",
    "sc = init_nncontext(\"Prosper Classification\")  # Initialize the "
   ]
  },
  {
   "cell_type": "markdown",
   "metadata": {},
   "source": [
    "## Load the Data\n",
    "\n",
    "We are going to load the data of the prosper loan dataset.\n",
    "\n",
    "Notice we are first loading this into a Pandas dataframe. This is fine for a small dataset, but we will need more than this for a large \"at scale\" notebook.\n",
    "\n",
    "Notice the very large numbers of columns. We are going to take only a selection of those columns."
   ]
  },
  {
   "cell_type": "code",
   "execution_count": 3,
   "metadata": {
    "scrolled": true
   },
   "outputs": [
    {
     "data": {
      "text/html": [
       "<div>\n",
       "<style scoped>\n",
       "    .dataframe tbody tr th:only-of-type {\n",
       "        vertical-align: middle;\n",
       "    }\n",
       "\n",
       "    .dataframe tbody tr th {\n",
       "        vertical-align: top;\n",
       "    }\n",
       "\n",
       "    .dataframe thead th {\n",
       "        text-align: right;\n",
       "    }\n",
       "</style>\n",
       "<table border=\"1\" class=\"dataframe\">\n",
       "  <thead>\n",
       "    <tr style=\"text-align: right;\">\n",
       "      <th></th>\n",
       "      <th>Term</th>\n",
       "      <th>LoanStatus</th>\n",
       "      <th>BorrowerRate</th>\n",
       "      <th>ProsperRating (numeric)</th>\n",
       "      <th>ProsperScore</th>\n",
       "      <th>ListingCategory</th>\n",
       "      <th>BorrowerState</th>\n",
       "      <th>EmploymentStatus</th>\n",
       "      <th>EmploymentStatusDuration</th>\n",
       "      <th>IsBorrowerHomeowner</th>\n",
       "      <th>...</th>\n",
       "      <th>ProsperPaymentsOneMonthPlusLate</th>\n",
       "      <th>ProsperPrincipalBorrowed</th>\n",
       "      <th>ProsperPrincipalOutstanding</th>\n",
       "      <th>LoanOriginalAmount</th>\n",
       "      <th>MonthlyLoanPayment</th>\n",
       "      <th>Recommendations</th>\n",
       "      <th>InvestmentFromFriendsCount</th>\n",
       "      <th>InvestmentFromFriendsAmount</th>\n",
       "      <th>Investors</th>\n",
       "      <th>YearsWithCredit</th>\n",
       "    </tr>\n",
       "  </thead>\n",
       "  <tbody>\n",
       "    <tr>\n",
       "      <th>49719</th>\n",
       "      <td>36</td>\n",
       "      <td>1</td>\n",
       "      <td>0.0679</td>\n",
       "      <td>4.0</td>\n",
       "      <td>6.0</td>\n",
       "      <td>Personal</td>\n",
       "      <td>WA</td>\n",
       "      <td>Full-time</td>\n",
       "      <td>69.0</td>\n",
       "      <td>True</td>\n",
       "      <td>...</td>\n",
       "      <td>0.0</td>\n",
       "      <td>1000.0</td>\n",
       "      <td>847.61</td>\n",
       "      <td>4292</td>\n",
       "      <td>132.11</td>\n",
       "      <td>2</td>\n",
       "      <td>0</td>\n",
       "      <td>0.0</td>\n",
       "      <td>194</td>\n",
       "      <td>42</td>\n",
       "    </tr>\n",
       "    <tr>\n",
       "      <th>49720</th>\n",
       "      <td>36</td>\n",
       "      <td>1</td>\n",
       "      <td>0.1899</td>\n",
       "      <td>4.0</td>\n",
       "      <td>6.0</td>\n",
       "      <td>Business</td>\n",
       "      <td>CO</td>\n",
       "      <td>Full-time</td>\n",
       "      <td>22.0</td>\n",
       "      <td>False</td>\n",
       "      <td>...</td>\n",
       "      <td>0.0</td>\n",
       "      <td>14250.0</td>\n",
       "      <td>0.02</td>\n",
       "      <td>2000</td>\n",
       "      <td>73.30</td>\n",
       "      <td>0</td>\n",
       "      <td>0</td>\n",
       "      <td>0.0</td>\n",
       "      <td>25</td>\n",
       "      <td>10</td>\n",
       "    </tr>\n",
       "    <tr>\n",
       "      <th>49721</th>\n",
       "      <td>36</td>\n",
       "      <td>1</td>\n",
       "      <td>0.2639</td>\n",
       "      <td>2.0</td>\n",
       "      <td>3.0</td>\n",
       "      <td>Reno</td>\n",
       "      <td>FL</td>\n",
       "      <td>Employed</td>\n",
       "      <td>25.0</td>\n",
       "      <td>False</td>\n",
       "      <td>...</td>\n",
       "      <td>0.0</td>\n",
       "      <td>0.0</td>\n",
       "      <td>0.00</td>\n",
       "      <td>2500</td>\n",
       "      <td>101.25</td>\n",
       "      <td>0</td>\n",
       "      <td>0</td>\n",
       "      <td>0.0</td>\n",
       "      <td>26</td>\n",
       "      <td>6</td>\n",
       "    </tr>\n",
       "    <tr>\n",
       "      <th>49722</th>\n",
       "      <td>36</td>\n",
       "      <td>0</td>\n",
       "      <td>0.1110</td>\n",
       "      <td>6.0</td>\n",
       "      <td>8.0</td>\n",
       "      <td>Other</td>\n",
       "      <td>PA</td>\n",
       "      <td>Employed</td>\n",
       "      <td>21.0</td>\n",
       "      <td>True</td>\n",
       "      <td>...</td>\n",
       "      <td>0.0</td>\n",
       "      <td>33501.0</td>\n",
       "      <td>4815.42</td>\n",
       "      <td>2000</td>\n",
       "      <td>65.57</td>\n",
       "      <td>0</td>\n",
       "      <td>0</td>\n",
       "      <td>0.0</td>\n",
       "      <td>22</td>\n",
       "      <td>22</td>\n",
       "    </tr>\n",
       "    <tr>\n",
       "      <th>49723</th>\n",
       "      <td>60</td>\n",
       "      <td>1</td>\n",
       "      <td>0.2605</td>\n",
       "      <td>4.0</td>\n",
       "      <td>5.0</td>\n",
       "      <td>Reno</td>\n",
       "      <td>GA</td>\n",
       "      <td>Full-time</td>\n",
       "      <td>94.0</td>\n",
       "      <td>True</td>\n",
       "      <td>...</td>\n",
       "      <td>0.0</td>\n",
       "      <td>5000.0</td>\n",
       "      <td>3264.37</td>\n",
       "      <td>15000</td>\n",
       "      <td>449.55</td>\n",
       "      <td>0</td>\n",
       "      <td>0</td>\n",
       "      <td>0.0</td>\n",
       "      <td>274</td>\n",
       "      <td>21</td>\n",
       "    </tr>\n",
       "  </tbody>\n",
       "</table>\n",
       "<p>5 rows × 46 columns</p>\n",
       "</div>"
      ],
      "text/plain": [
       "       Term  LoanStatus  BorrowerRate  ProsperRating (numeric)  ProsperScore  \\\n",
       "49719    36           1        0.0679                      4.0           6.0   \n",
       "49720    36           1        0.1899                      4.0           6.0   \n",
       "49721    36           1        0.2639                      2.0           3.0   \n",
       "49722    36           0        0.1110                      6.0           8.0   \n",
       "49723    60           1        0.2605                      4.0           5.0   \n",
       "\n",
       "      ListingCategory BorrowerState EmploymentStatus  \\\n",
       "49719        Personal            WA        Full-time   \n",
       "49720        Business            CO        Full-time   \n",
       "49721            Reno            FL         Employed   \n",
       "49722           Other            PA         Employed   \n",
       "49723            Reno            GA        Full-time   \n",
       "\n",
       "       EmploymentStatusDuration  IsBorrowerHomeowner  ...  \\\n",
       "49719                      69.0                 True  ...   \n",
       "49720                      22.0                False  ...   \n",
       "49721                      25.0                False  ...   \n",
       "49722                      21.0                 True  ...   \n",
       "49723                      94.0                 True  ...   \n",
       "\n",
       "       ProsperPaymentsOneMonthPlusLate  ProsperPrincipalBorrowed  \\\n",
       "49719                              0.0                    1000.0   \n",
       "49720                              0.0                   14250.0   \n",
       "49721                              0.0                       0.0   \n",
       "49722                              0.0                   33501.0   \n",
       "49723                              0.0                    5000.0   \n",
       "\n",
       "       ProsperPrincipalOutstanding  LoanOriginalAmount  MonthlyLoanPayment  \\\n",
       "49719                       847.61                4292              132.11   \n",
       "49720                         0.02                2000               73.30   \n",
       "49721                         0.00                2500              101.25   \n",
       "49722                      4815.42                2000               65.57   \n",
       "49723                      3264.37               15000              449.55   \n",
       "\n",
       "       Recommendations  InvestmentFromFriendsCount  \\\n",
       "49719                2                           0   \n",
       "49720                0                           0   \n",
       "49721                0                           0   \n",
       "49722                0                           0   \n",
       "49723                0                           0   \n",
       "\n",
       "       InvestmentFromFriendsAmount  Investors  YearsWithCredit  \n",
       "49719                          0.0        194               42  \n",
       "49720                          0.0         25               10  \n",
       "49721                          0.0         26                6  \n",
       "49722                          0.0         22               22  \n",
       "49723                          0.0        274               21  \n",
       "\n",
       "[5 rows x 46 columns]"
      ]
     },
     "execution_count": 3,
     "metadata": {},
     "output_type": "execute_result"
    }
   ],
   "source": [
    "import pandas as pd\n",
    "\n",
    "## small file, start with this\n",
    "#datafile = \"https://s3.amazonaws.com/elephantscale-public/data/prosper-loan/prosper-loan-data-sample.csv\"\n",
    "## this is a large file\n",
    "datafile = \"https://s3.amazonaws.com/elephantscale-public/data/prosper-loan/prosper-loan-data.csv.gz\"\n",
    "\n",
    "data = pd.read_csv(datafile)\n",
    "data.tail()"
   ]
  },
  {
   "cell_type": "markdown",
   "metadata": {},
   "source": [
    "## Look at some summary data\n",
    "\n",
    "Let's look at some summary data here.\n",
    "\n",
    "We'd like to see the cardinality of the categorical columns."
   ]
  },
  {
   "cell_type": "code",
   "execution_count": 6,
   "metadata": {},
   "outputs": [
    {
     "name": "stdout",
     "output_type": "stream",
     "text": [
      "1    33530\n",
      "0    16194\n",
      "Name: LoanStatus, dtype: int64\n"
     ]
    }
   ],
   "source": [
    "print(data['LoanStatus'].value_counts())\n"
   ]
  },
  {
   "cell_type": "markdown",
   "metadata": {},
   "source": [
    "It looks like \"good\" loans outnumber bad about 2-1.  That's a class imbalance but not a dramatic one. We can probably get away with using it as is.\n",
    "\n",
    "Let's now look at the Employment Status:"
   ]
  },
  {
   "cell_type": "code",
   "execution_count": 7,
   "metadata": {},
   "outputs": [
    {
     "name": "stdout",
     "output_type": "stream",
     "text": [
      "Full-time        25016\n",
      "Employed         18393\n",
      "Self-employed     3045\n",
      "Part-time         1060\n",
      "Other              924\n",
      "Retired            703\n",
      "Not employed       583\n",
      "Name: EmploymentStatus, dtype: int64\n"
     ]
    }
   ],
   "source": [
    "\n",
    "print(data['EmploymentStatus'].value_counts())\n",
    "\n"
   ]
  },
  {
   "cell_type": "markdown",
   "metadata": {},
   "source": [
    "It appears that there are a variety of different statuses although Full-Time and Employed (which seem to be the same thing), are the majority."
   ]
  },
  {
   "cell_type": "markdown",
   "metadata": {},
   "source": [
    "## Converting Categorical columns \n",
    "\n",
    "Convert categorical columns to numeric.   \n",
    "Here let's convert **EmploymentStatus** column"
   ]
  },
  {
   "cell_type": "code",
   "execution_count": 8,
   "metadata": {
    "scrolled": true
   },
   "outputs": [],
   "source": [
    "# use pd.factorize on EmploymentStatus, ListingCategory\n",
    "\n",
    "data['EmploymentStatusFactor'] = pd.factorize(data['EmploymentStatus'])[0]\n",
    "data['ListingCategoryFactor'] = pd.factorize(data['ListingCategory'])[0]"
   ]
  },
  {
   "cell_type": "markdown",
   "metadata": {},
   "source": [
    "## Build feature vectors \n",
    "\n",
    "We're going to use this from the `feature_columns` list.  This will get *only* the feature columns."
   ]
  },
  {
   "cell_type": "code",
   "execution_count": 9,
   "metadata": {
    "scrolled": true
   },
   "outputs": [
    {
     "data": {
      "text/html": [
       "<div>\n",
       "<style scoped>\n",
       "    .dataframe tbody tr th:only-of-type {\n",
       "        vertical-align: middle;\n",
       "    }\n",
       "\n",
       "    .dataframe tbody tr th {\n",
       "        vertical-align: top;\n",
       "    }\n",
       "\n",
       "    .dataframe thead th {\n",
       "        text-align: right;\n",
       "    }\n",
       "</style>\n",
       "<table border=\"1\" class=\"dataframe\">\n",
       "  <thead>\n",
       "    <tr style=\"text-align: right;\">\n",
       "      <th></th>\n",
       "      <th>EmploymentStatusFactor</th>\n",
       "      <th>CreditScore</th>\n",
       "      <th>StatedMonthlyIncome</th>\n",
       "      <th>ListingCategoryFactor</th>\n",
       "    </tr>\n",
       "  </thead>\n",
       "  <tbody>\n",
       "    <tr>\n",
       "      <th>49719</th>\n",
       "      <td>1</td>\n",
       "      <td>760.0</td>\n",
       "      <td>10333.333333</td>\n",
       "      <td>10</td>\n",
       "    </tr>\n",
       "    <tr>\n",
       "      <th>49720</th>\n",
       "      <td>1</td>\n",
       "      <td>740.0</td>\n",
       "      <td>2333.333333</td>\n",
       "      <td>8</td>\n",
       "    </tr>\n",
       "    <tr>\n",
       "      <th>49721</th>\n",
       "      <td>2</td>\n",
       "      <td>660.0</td>\n",
       "      <td>4333.333333</td>\n",
       "      <td>11</td>\n",
       "    </tr>\n",
       "    <tr>\n",
       "      <th>49722</th>\n",
       "      <td>2</td>\n",
       "      <td>700.0</td>\n",
       "      <td>8041.666667</td>\n",
       "      <td>5</td>\n",
       "    </tr>\n",
       "    <tr>\n",
       "      <th>49723</th>\n",
       "      <td>1</td>\n",
       "      <td>680.0</td>\n",
       "      <td>3875.000000</td>\n",
       "      <td>11</td>\n",
       "    </tr>\n",
       "  </tbody>\n",
       "</table>\n",
       "</div>"
      ],
      "text/plain": [
       "       EmploymentStatusFactor  CreditScore  StatedMonthlyIncome  \\\n",
       "49719                       1        760.0         10333.333333   \n",
       "49720                       1        740.0          2333.333333   \n",
       "49721                       2        660.0          4333.333333   \n",
       "49722                       2        700.0          8041.666667   \n",
       "49723                       1        680.0          3875.000000   \n",
       "\n",
       "       ListingCategoryFactor  \n",
       "49719                     10  \n",
       "49720                      8  \n",
       "49721                     11  \n",
       "49722                      5  \n",
       "49723                     11  "
      ]
     },
     "execution_count": 9,
     "metadata": {},
     "output_type": "execute_result"
    }
   ],
   "source": [
    "feature_columns = ['EmploymentStatusFactor', 'CreditScore', 'StatedMonthlyIncome', 'ListingCategoryFactor']\n",
    "features = data[feature_columns]\n",
    "label = data['LoanStatus']\n",
    "features.tail()"
   ]
  },
  {
   "cell_type": "markdown",
   "metadata": {},
   "source": [
    "## Split Data into training and test.\n",
    "\n",
    "We will split our the data up into training and test. Here we do 70% training, 30% test."
   ]
  },
  {
   "cell_type": "code",
   "execution_count": 10,
   "metadata": {
    "scrolled": true
   },
   "outputs": [
    {
     "name": "stdout",
     "output_type": "stream",
     "text": [
      "training set =  37293\n"
     ]
    },
    {
     "data": {
      "text/html": [
       "<div>\n",
       "<style scoped>\n",
       "    .dataframe tbody tr th:only-of-type {\n",
       "        vertical-align: middle;\n",
       "    }\n",
       "\n",
       "    .dataframe tbody tr th {\n",
       "        vertical-align: top;\n",
       "    }\n",
       "\n",
       "    .dataframe thead th {\n",
       "        text-align: right;\n",
       "    }\n",
       "</style>\n",
       "<table border=\"1\" class=\"dataframe\">\n",
       "  <thead>\n",
       "    <tr style=\"text-align: right;\">\n",
       "      <th></th>\n",
       "      <th>EmploymentStatusFactor</th>\n",
       "      <th>CreditScore</th>\n",
       "      <th>StatedMonthlyIncome</th>\n",
       "      <th>ListingCategoryFactor</th>\n",
       "    </tr>\n",
       "  </thead>\n",
       "  <tbody>\n",
       "    <tr>\n",
       "      <th>13718</th>\n",
       "      <td>4</td>\n",
       "      <td>700.0</td>\n",
       "      <td>0.000000</td>\n",
       "      <td>1</td>\n",
       "    </tr>\n",
       "    <tr>\n",
       "      <th>43723</th>\n",
       "      <td>2</td>\n",
       "      <td>680.0</td>\n",
       "      <td>3500.000000</td>\n",
       "      <td>1</td>\n",
       "    </tr>\n",
       "    <tr>\n",
       "      <th>1212</th>\n",
       "      <td>2</td>\n",
       "      <td>720.0</td>\n",
       "      <td>8583.333333</td>\n",
       "      <td>5</td>\n",
       "    </tr>\n",
       "    <tr>\n",
       "      <th>27957</th>\n",
       "      <td>2</td>\n",
       "      <td>660.0</td>\n",
       "      <td>5000.000000</td>\n",
       "      <td>1</td>\n",
       "    </tr>\n",
       "    <tr>\n",
       "      <th>42093</th>\n",
       "      <td>1</td>\n",
       "      <td>620.0</td>\n",
       "      <td>4675.000000</td>\n",
       "      <td>1</td>\n",
       "    </tr>\n",
       "  </tbody>\n",
       "</table>\n",
       "</div>"
      ],
      "text/plain": [
       "       EmploymentStatusFactor  CreditScore  StatedMonthlyIncome  \\\n",
       "13718                       4        700.0             0.000000   \n",
       "43723                       2        680.0          3500.000000   \n",
       "1212                        2        720.0          8583.333333   \n",
       "27957                       2        660.0          5000.000000   \n",
       "42093                       1        620.0          4675.000000   \n",
       "\n",
       "       ListingCategoryFactor  \n",
       "13718                      1  \n",
       "43723                      1  \n",
       "1212                       5  \n",
       "27957                      1  \n",
       "42093                      1  "
      ]
     },
     "execution_count": 10,
     "metadata": {},
     "output_type": "execute_result"
    }
   ],
   "source": [
    "## Split the data into 70% training and 30% test sets \n",
    "\n",
    "from sklearn.model_selection import train_test_split\n",
    "train_x, test_x, train_y, test_y = train_test_split(features, label)\n",
    "print(\"training set = \" , len(train_x))  # Show number of rows intraining set\n",
    "pd.DataFrame(train_x).tail()  # Show last few ros in training set."
   ]
  },
  {
   "cell_type": "code",
   "execution_count": 11,
   "metadata": {},
   "outputs": [
    {
     "name": "stdout",
     "output_type": "stream",
     "text": [
      "test set =  12431\n"
     ]
    },
    {
     "data": {
      "text/html": [
       "<div>\n",
       "<style scoped>\n",
       "    .dataframe tbody tr th:only-of-type {\n",
       "        vertical-align: middle;\n",
       "    }\n",
       "\n",
       "    .dataframe tbody tr th {\n",
       "        vertical-align: top;\n",
       "    }\n",
       "\n",
       "    .dataframe thead th {\n",
       "        text-align: right;\n",
       "    }\n",
       "</style>\n",
       "<table border=\"1\" class=\"dataframe\">\n",
       "  <thead>\n",
       "    <tr style=\"text-align: right;\">\n",
       "      <th></th>\n",
       "      <th>EmploymentStatusFactor</th>\n",
       "      <th>CreditScore</th>\n",
       "      <th>StatedMonthlyIncome</th>\n",
       "      <th>ListingCategoryFactor</th>\n",
       "    </tr>\n",
       "  </thead>\n",
       "  <tbody>\n",
       "    <tr>\n",
       "      <th>42161</th>\n",
       "      <td>1</td>\n",
       "      <td>640.0</td>\n",
       "      <td>4150.000000</td>\n",
       "      <td>1</td>\n",
       "    </tr>\n",
       "    <tr>\n",
       "      <th>15666</th>\n",
       "      <td>1</td>\n",
       "      <td>740.0</td>\n",
       "      <td>5416.666667</td>\n",
       "      <td>10</td>\n",
       "    </tr>\n",
       "    <tr>\n",
       "      <th>13209</th>\n",
       "      <td>3</td>\n",
       "      <td>660.0</td>\n",
       "      <td>1833.333333</td>\n",
       "      <td>1</td>\n",
       "    </tr>\n",
       "    <tr>\n",
       "      <th>19552</th>\n",
       "      <td>1</td>\n",
       "      <td>560.0</td>\n",
       "      <td>8456.166667</td>\n",
       "      <td>0</td>\n",
       "    </tr>\n",
       "    <tr>\n",
       "      <th>16812</th>\n",
       "      <td>1</td>\n",
       "      <td>640.0</td>\n",
       "      <td>4583.333333</td>\n",
       "      <td>1</td>\n",
       "    </tr>\n",
       "  </tbody>\n",
       "</table>\n",
       "</div>"
      ],
      "text/plain": [
       "       EmploymentStatusFactor  CreditScore  StatedMonthlyIncome  \\\n",
       "42161                       1        640.0          4150.000000   \n",
       "15666                       1        740.0          5416.666667   \n",
       "13209                       3        660.0          1833.333333   \n",
       "19552                       1        560.0          8456.166667   \n",
       "16812                       1        640.0          4583.333333   \n",
       "\n",
       "       ListingCategoryFactor  \n",
       "42161                      1  \n",
       "15666                     10  \n",
       "13209                      1  \n",
       "19552                      0  \n",
       "16812                      1  "
      ]
     },
     "execution_count": 11,
     "metadata": {},
     "output_type": "execute_result"
    }
   ],
   "source": [
    "print(\"test set = \" , len(test_x))  # Show number of rows in test sete\n",
    "pd.DataFrame(test_x).tail()   # Show last few rows of test set"
   ]
  },
  {
   "cell_type": "code",
   "execution_count": 16,
   "metadata": {},
   "outputs": [
    {
     "name": "stdout",
     "output_type": "stream",
     "text": [
      "['EmploymentStatusFactor', 'CreditScore', 'StatedMonthlyIncome', 'ListingCategoryFactor']\n"
     ]
    }
   ],
   "source": [
    "print(train_x.keys().tolist())  # Print out the names of the columns"
   ]
  },
  {
   "cell_type": "markdown",
   "metadata": {},
   "source": [
    "## Neural Network\n",
    "\n",
    "Here we are going to define our network. We will do this with the Analytics Zoo Keras style API.\n",
    "\n",
    "Here's what we have:\n",
    "\n",
    " * Input Layer\n",
    " * Hidden Layer (4 Neurons), with Dropout\n",
    " * Hidden Layer (4 Neurons), with Dropout\n",
    " * Output Layer (1 Neuron)\n",
    " \n",
    "This is *binary* clasification.\n",
    " \n",
    "We will train with Adam optimizer, which is a good all-around optimizer that doesn't need us to play much with hyperparameters."
   ]
  },
  {
   "cell_type": "code",
   "execution_count": null,
   "metadata": {},
   "outputs": [],
   "source": [
    "from zoo.pipeline.api.keras.layers import Dense, Dropout\n",
    "from zoo.pipeline.api.keras.models import Sequential\n",
    "\n",
    "def build_model(train_x):\n",
    "  model = Sequential()\n",
    "\n",
    "  model.add(Dense(4, input_dim=len(train_x.columns), activation='tanh'))\n",
    "  model.add(Dropout(0.2))\n",
    "  model.add(Dense(4, activation='tanh'))\n",
    "  model.add(Dropout(0.2))\n",
    "  model.add(Dense(output_dim=1, activation='sigmoid'))\n",
    "  \n",
    "  model.compile(loss='binary_crossentropy', optimizer='adam')\n",
    "  return model\n",
    "\n",
    "\n",
    "model = build_model(train_x)\n",
    "model.summary()"
   ]
  },
  {
   "cell_type": "markdown",
   "metadata": {},
   "source": [
    "Now it's time to train. We will do this with the `model.fit()` from analytics zoo. Notice the Keras-like `.fit` semantics."
   ]
  },
  {
   "cell_type": "code",
   "execution_count": null,
   "metadata": {},
   "outputs": [],
   "source": [
    "%%time\n",
    "# Train the model\n",
    "print(\"Training begins.\")\n",
    "model.fit(\n",
    "    train_x.values,\n",
    "    train_y.values,\n",
    "    batch_size=500,\n",
    "    nb_epoch=2)\n",
    "print(\"Training completed.\")"
   ]
  },
  {
   "cell_type": "code",
   "execution_count": null,
   "metadata": {},
   "outputs": [],
   "source": [
    "predictions = model.predict(test_x.values)"
   ]
  },
  {
   "cell_type": "markdown",
   "metadata": {},
   "source": [
    "## Evaluate the model.\n",
    "\n",
    "Let us check to see how the model did, using accuracy as a measure."
   ]
  },
  {
   "cell_type": "code",
   "execution_count": 42,
   "metadata": {},
   "outputs": [
    {
     "data": {
      "text/plain": [
       "0.6794304561177701"
      ]
     },
     "execution_count": 42,
     "metadata": {},
     "output_type": "execute_result"
    }
   ],
   "source": [
    "from sklearn.metrics import accuracy_score\n",
    "import numpy as np\n",
    "accuracy_score(test_y, np.rint(np.concatenate(predictions.collect())))"
   ]
  },
  {
   "cell_type": "markdown",
   "metadata": {},
   "source": [
    "The results indicate that we get 67% accuracy, meaning we are right 2/3 of the time."
   ]
  },
  {
   "cell_type": "markdown",
   "metadata": {
    "collapsed": true
   },
   "source": [
    "##  Improve Accuracy\n",
    "\n",
    "### Add more features\n",
    "Look at the schema of the full dataset.  Are there any columns you want to add? Make sure you up the number of neurons in the hidden layer as you add more features."
   ]
  },
  {
   "cell_type": "markdown",
   "metadata": {},
   "source": [
    "## Conclusion\n",
    "\n",
    "1. Models can be used for both Classification and regression\n",
    "2. Classification ususally uses a loss function of cross-entropy rather than MSE.\n",
    "3. A Multilayer Peceptron network can be built with Keras style `Dense` layers.\n",
    "\n"
   ]
  }
 ],
 "metadata": {
  "anaconda-cloud": {},
  "kernelspec": {
   "display_name": "Python 3",
   "language": "python",
   "name": "python3"
  }
 },
 "nbformat": 4,
 "nbformat_minor": 1
}
