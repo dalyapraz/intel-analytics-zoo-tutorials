{
 "cells": [
  {
   "cell_type": "markdown",
   "metadata": {},
   "source": [
    "# Analytics Zoo Neural Network : Prosper Loan Dataset\n",
    "\n",
    "We are going to look at the prosper loan dataset.  This dataset shows a history of loans made by Prosper.\n",
    "\n",
    "The idea with this dataset is to try to predict whether a loan will be \"good\" or \"bad.\" There are many ways a loan can be bad, from late payments to defaults, but we will turn this into a binary choice between \"good\" loans and \"bad\" loans.\n",
    "\n",
    "We will use a neural network in the Keras-style API in Analytics Zoo to do the prediction of \"good\" loans or \"bad.\n",
    "\n",
    "This uses Analytics Zoo.   If you want to see a \"vanilla\" Tensorflow version of this lab, click [here](./prosper-tf.ipynb)."
   ]
  },
  {
   "cell_type": "code",
   "execution_count": 5,
   "metadata": {
    "scrolled": true
   },
   "outputs": [],
   "source": [
    "from zoo.common.nncontext import init_nncontext\n",
    "sc = init_nncontext(\"MPG Regression\")  # Initialize the "
   ]
  },
  {
   "cell_type": "markdown",
   "metadata": {},
   "source": [
    "## Step 1: Load the Data\n",
    "\n",
    "We are going to load the data of the prosper loan dataset.\n",
    "\n",
    "Notice we are first loading this into a Pandas dataframe. This is fine for a small dataset, but we will need more than this for a large \"at scale\" notebook.\n",
    "\n",
    "Notice the very large numbers of columns. We are going to take only a selection of those columns."
   ]
  },
  {
   "cell_type": "code",
   "execution_count": 6,
   "metadata": {
    "scrolled": true
   },
   "outputs": [
    {
     "data": {
      "text/html": [
       "<div>\n",
       "<style scoped>\n",
       "    .dataframe tbody tr th:only-of-type {\n",
       "        vertical-align: middle;\n",
       "    }\n",
       "\n",
       "    .dataframe tbody tr th {\n",
       "        vertical-align: top;\n",
       "    }\n",
       "\n",
       "    .dataframe thead th {\n",
       "        text-align: right;\n",
       "    }\n",
       "</style>\n",
       "<table border=\"1\" class=\"dataframe\">\n",
       "  <thead>\n",
       "    <tr style=\"text-align: right;\">\n",
       "      <th></th>\n",
       "      <th>Term</th>\n",
       "      <th>LoanStatus</th>\n",
       "      <th>BorrowerRate</th>\n",
       "      <th>ProsperRating (numeric)</th>\n",
       "      <th>ProsperScore</th>\n",
       "      <th>ListingCategory</th>\n",
       "      <th>BorrowerState</th>\n",
       "      <th>EmploymentStatus</th>\n",
       "      <th>EmploymentStatusDuration</th>\n",
       "      <th>IsBorrowerHomeowner</th>\n",
       "      <th>...</th>\n",
       "      <th>ProsperPaymentsOneMonthPlusLate</th>\n",
       "      <th>ProsperPrincipalBorrowed</th>\n",
       "      <th>ProsperPrincipalOutstanding</th>\n",
       "      <th>LoanOriginalAmount</th>\n",
       "      <th>MonthlyLoanPayment</th>\n",
       "      <th>Recommendations</th>\n",
       "      <th>InvestmentFromFriendsCount</th>\n",
       "      <th>InvestmentFromFriendsAmount</th>\n",
       "      <th>Investors</th>\n",
       "      <th>YearsWithCredit</th>\n",
       "    </tr>\n",
       "  </thead>\n",
       "  <tbody>\n",
       "    <tr>\n",
       "      <th>49719</th>\n",
       "      <td>36</td>\n",
       "      <td>1</td>\n",
       "      <td>0.0679</td>\n",
       "      <td>4.0</td>\n",
       "      <td>6.0</td>\n",
       "      <td>Personal</td>\n",
       "      <td>WA</td>\n",
       "      <td>Full-time</td>\n",
       "      <td>69.0</td>\n",
       "      <td>True</td>\n",
       "      <td>...</td>\n",
       "      <td>0.0</td>\n",
       "      <td>1000.0</td>\n",
       "      <td>847.61</td>\n",
       "      <td>4292</td>\n",
       "      <td>132.11</td>\n",
       "      <td>2</td>\n",
       "      <td>0</td>\n",
       "      <td>0.0</td>\n",
       "      <td>194</td>\n",
       "      <td>42</td>\n",
       "    </tr>\n",
       "    <tr>\n",
       "      <th>49720</th>\n",
       "      <td>36</td>\n",
       "      <td>1</td>\n",
       "      <td>0.1899</td>\n",
       "      <td>4.0</td>\n",
       "      <td>6.0</td>\n",
       "      <td>Business</td>\n",
       "      <td>CO</td>\n",
       "      <td>Full-time</td>\n",
       "      <td>22.0</td>\n",
       "      <td>False</td>\n",
       "      <td>...</td>\n",
       "      <td>0.0</td>\n",
       "      <td>14250.0</td>\n",
       "      <td>0.02</td>\n",
       "      <td>2000</td>\n",
       "      <td>73.30</td>\n",
       "      <td>0</td>\n",
       "      <td>0</td>\n",
       "      <td>0.0</td>\n",
       "      <td>25</td>\n",
       "      <td>10</td>\n",
       "    </tr>\n",
       "    <tr>\n",
       "      <th>49721</th>\n",
       "      <td>36</td>\n",
       "      <td>1</td>\n",
       "      <td>0.2639</td>\n",
       "      <td>2.0</td>\n",
       "      <td>3.0</td>\n",
       "      <td>Reno</td>\n",
       "      <td>FL</td>\n",
       "      <td>Employed</td>\n",
       "      <td>25.0</td>\n",
       "      <td>False</td>\n",
       "      <td>...</td>\n",
       "      <td>0.0</td>\n",
       "      <td>0.0</td>\n",
       "      <td>0.00</td>\n",
       "      <td>2500</td>\n",
       "      <td>101.25</td>\n",
       "      <td>0</td>\n",
       "      <td>0</td>\n",
       "      <td>0.0</td>\n",
       "      <td>26</td>\n",
       "      <td>6</td>\n",
       "    </tr>\n",
       "    <tr>\n",
       "      <th>49722</th>\n",
       "      <td>36</td>\n",
       "      <td>0</td>\n",
       "      <td>0.1110</td>\n",
       "      <td>6.0</td>\n",
       "      <td>8.0</td>\n",
       "      <td>Other</td>\n",
       "      <td>PA</td>\n",
       "      <td>Employed</td>\n",
       "      <td>21.0</td>\n",
       "      <td>True</td>\n",
       "      <td>...</td>\n",
       "      <td>0.0</td>\n",
       "      <td>33501.0</td>\n",
       "      <td>4815.42</td>\n",
       "      <td>2000</td>\n",
       "      <td>65.57</td>\n",
       "      <td>0</td>\n",
       "      <td>0</td>\n",
       "      <td>0.0</td>\n",
       "      <td>22</td>\n",
       "      <td>22</td>\n",
       "    </tr>\n",
       "    <tr>\n",
       "      <th>49723</th>\n",
       "      <td>60</td>\n",
       "      <td>1</td>\n",
       "      <td>0.2605</td>\n",
       "      <td>4.0</td>\n",
       "      <td>5.0</td>\n",
       "      <td>Reno</td>\n",
       "      <td>GA</td>\n",
       "      <td>Full-time</td>\n",
       "      <td>94.0</td>\n",
       "      <td>True</td>\n",
       "      <td>...</td>\n",
       "      <td>0.0</td>\n",
       "      <td>5000.0</td>\n",
       "      <td>3264.37</td>\n",
       "      <td>15000</td>\n",
       "      <td>449.55</td>\n",
       "      <td>0</td>\n",
       "      <td>0</td>\n",
       "      <td>0.0</td>\n",
       "      <td>274</td>\n",
       "      <td>21</td>\n",
       "    </tr>\n",
       "  </tbody>\n",
       "</table>\n",
       "<p>5 rows × 46 columns</p>\n",
       "</div>"
      ],
      "text/plain": [
       "       Term  LoanStatus  BorrowerRate  ProsperRating (numeric)  ProsperScore  \\\n",
       "49719    36           1        0.0679                      4.0           6.0   \n",
       "49720    36           1        0.1899                      4.0           6.0   \n",
       "49721    36           1        0.2639                      2.0           3.0   \n",
       "49722    36           0        0.1110                      6.0           8.0   \n",
       "49723    60           1        0.2605                      4.0           5.0   \n",
       "\n",
       "      ListingCategory BorrowerState EmploymentStatus  \\\n",
       "49719        Personal            WA        Full-time   \n",
       "49720        Business            CO        Full-time   \n",
       "49721            Reno            FL         Employed   \n",
       "49722           Other            PA         Employed   \n",
       "49723            Reno            GA        Full-time   \n",
       "\n",
       "       EmploymentStatusDuration  IsBorrowerHomeowner  ...  \\\n",
       "49719                      69.0                 True  ...   \n",
       "49720                      22.0                False  ...   \n",
       "49721                      25.0                False  ...   \n",
       "49722                      21.0                 True  ...   \n",
       "49723                      94.0                 True  ...   \n",
       "\n",
       "       ProsperPaymentsOneMonthPlusLate  ProsperPrincipalBorrowed  \\\n",
       "49719                              0.0                    1000.0   \n",
       "49720                              0.0                   14250.0   \n",
       "49721                              0.0                       0.0   \n",
       "49722                              0.0                   33501.0   \n",
       "49723                              0.0                    5000.0   \n",
       "\n",
       "       ProsperPrincipalOutstanding  LoanOriginalAmount  MonthlyLoanPayment  \\\n",
       "49719                       847.61                4292              132.11   \n",
       "49720                         0.02                2000               73.30   \n",
       "49721                         0.00                2500              101.25   \n",
       "49722                      4815.42                2000               65.57   \n",
       "49723                      3264.37               15000              449.55   \n",
       "\n",
       "       Recommendations  InvestmentFromFriendsCount  \\\n",
       "49719                2                           0   \n",
       "49720                0                           0   \n",
       "49721                0                           0   \n",
       "49722                0                           0   \n",
       "49723                0                           0   \n",
       "\n",
       "       InvestmentFromFriendsAmount  Investors  YearsWithCredit  \n",
       "49719                          0.0        194               42  \n",
       "49720                          0.0         25               10  \n",
       "49721                          0.0         26                6  \n",
       "49722                          0.0         22               22  \n",
       "49723                          0.0        274               21  \n",
       "\n",
       "[5 rows x 46 columns]"
      ]
     },
     "execution_count": 6,
     "metadata": {},
     "output_type": "execute_result"
    }
   ],
   "source": [
    "import pandas as pd\n",
    "\n",
    "## small file, start with this\n",
    "#datafile = \"https://s3.amazonaws.com/elephantscale-public/data/prosper-loan/prosper-loan-data-sample.csv\"\n",
    "## this is a large file\n",
    "datafile = \"https://s3.amazonaws.com/elephantscale-public/data/prosper-loan/prosper-loan-data.csv.gz\"\n",
    "\n",
    "data = pd.read_csv(datafile)\n",
    "data.tail()"
   ]
  },
  {
   "cell_type": "markdown",
   "metadata": {},
   "source": [
    "## Step 2 : Clean Data\n",
    "\n",
    "We should get rid of the NA values."
   ]
  },
  {
   "cell_type": "code",
   "execution_count": 4,
   "metadata": {
    "scrolled": true
   },
   "outputs": [
    {
     "name": "stdout",
     "output_type": "stream",
     "text": [
      "Original record count 49,724, cleaned records count 49,724,  dropped 0\n"
     ]
    },
    {
     "data": {
      "text/html": [
       "<div>\n",
       "<style scoped>\n",
       "    .dataframe tbody tr th:only-of-type {\n",
       "        vertical-align: middle;\n",
       "    }\n",
       "\n",
       "    .dataframe tbody tr th {\n",
       "        vertical-align: top;\n",
       "    }\n",
       "\n",
       "    .dataframe thead th {\n",
       "        text-align: right;\n",
       "    }\n",
       "</style>\n",
       "<table border=\"1\" class=\"dataframe\">\n",
       "  <thead>\n",
       "    <tr style=\"text-align: right;\">\n",
       "      <th></th>\n",
       "      <th>Term</th>\n",
       "      <th>LoanStatus</th>\n",
       "      <th>BorrowerRate</th>\n",
       "      <th>ProsperRating (numeric)</th>\n",
       "      <th>ProsperScore</th>\n",
       "      <th>ListingCategory</th>\n",
       "      <th>BorrowerState</th>\n",
       "      <th>EmploymentStatus</th>\n",
       "      <th>EmploymentStatusDuration</th>\n",
       "      <th>IsBorrowerHomeowner</th>\n",
       "      <th>...</th>\n",
       "      <th>ProsperPaymentsOneMonthPlusLate</th>\n",
       "      <th>ProsperPrincipalBorrowed</th>\n",
       "      <th>ProsperPrincipalOutstanding</th>\n",
       "      <th>LoanOriginalAmount</th>\n",
       "      <th>MonthlyLoanPayment</th>\n",
       "      <th>Recommendations</th>\n",
       "      <th>InvestmentFromFriendsCount</th>\n",
       "      <th>InvestmentFromFriendsAmount</th>\n",
       "      <th>Investors</th>\n",
       "      <th>YearsWithCredit</th>\n",
       "    </tr>\n",
       "  </thead>\n",
       "  <tbody>\n",
       "    <tr>\n",
       "      <th>49719</th>\n",
       "      <td>36</td>\n",
       "      <td>1</td>\n",
       "      <td>0.0679</td>\n",
       "      <td>4.0</td>\n",
       "      <td>6.0</td>\n",
       "      <td>Personal</td>\n",
       "      <td>WA</td>\n",
       "      <td>Full-time</td>\n",
       "      <td>69.0</td>\n",
       "      <td>True</td>\n",
       "      <td>...</td>\n",
       "      <td>0.0</td>\n",
       "      <td>1000.0</td>\n",
       "      <td>847.61</td>\n",
       "      <td>4292</td>\n",
       "      <td>132.11</td>\n",
       "      <td>2</td>\n",
       "      <td>0</td>\n",
       "      <td>0.0</td>\n",
       "      <td>194</td>\n",
       "      <td>42</td>\n",
       "    </tr>\n",
       "    <tr>\n",
       "      <th>49720</th>\n",
       "      <td>36</td>\n",
       "      <td>1</td>\n",
       "      <td>0.1899</td>\n",
       "      <td>4.0</td>\n",
       "      <td>6.0</td>\n",
       "      <td>Business</td>\n",
       "      <td>CO</td>\n",
       "      <td>Full-time</td>\n",
       "      <td>22.0</td>\n",
       "      <td>False</td>\n",
       "      <td>...</td>\n",
       "      <td>0.0</td>\n",
       "      <td>14250.0</td>\n",
       "      <td>0.02</td>\n",
       "      <td>2000</td>\n",
       "      <td>73.30</td>\n",
       "      <td>0</td>\n",
       "      <td>0</td>\n",
       "      <td>0.0</td>\n",
       "      <td>25</td>\n",
       "      <td>10</td>\n",
       "    </tr>\n",
       "    <tr>\n",
       "      <th>49721</th>\n",
       "      <td>36</td>\n",
       "      <td>1</td>\n",
       "      <td>0.2639</td>\n",
       "      <td>2.0</td>\n",
       "      <td>3.0</td>\n",
       "      <td>Reno</td>\n",
       "      <td>FL</td>\n",
       "      <td>Employed</td>\n",
       "      <td>25.0</td>\n",
       "      <td>False</td>\n",
       "      <td>...</td>\n",
       "      <td>0.0</td>\n",
       "      <td>0.0</td>\n",
       "      <td>0.00</td>\n",
       "      <td>2500</td>\n",
       "      <td>101.25</td>\n",
       "      <td>0</td>\n",
       "      <td>0</td>\n",
       "      <td>0.0</td>\n",
       "      <td>26</td>\n",
       "      <td>6</td>\n",
       "    </tr>\n",
       "    <tr>\n",
       "      <th>49722</th>\n",
       "      <td>36</td>\n",
       "      <td>0</td>\n",
       "      <td>0.1110</td>\n",
       "      <td>6.0</td>\n",
       "      <td>8.0</td>\n",
       "      <td>Other</td>\n",
       "      <td>PA</td>\n",
       "      <td>Employed</td>\n",
       "      <td>21.0</td>\n",
       "      <td>True</td>\n",
       "      <td>...</td>\n",
       "      <td>0.0</td>\n",
       "      <td>33501.0</td>\n",
       "      <td>4815.42</td>\n",
       "      <td>2000</td>\n",
       "      <td>65.57</td>\n",
       "      <td>0</td>\n",
       "      <td>0</td>\n",
       "      <td>0.0</td>\n",
       "      <td>22</td>\n",
       "      <td>22</td>\n",
       "    </tr>\n",
       "    <tr>\n",
       "      <th>49723</th>\n",
       "      <td>60</td>\n",
       "      <td>1</td>\n",
       "      <td>0.2605</td>\n",
       "      <td>4.0</td>\n",
       "      <td>5.0</td>\n",
       "      <td>Reno</td>\n",
       "      <td>GA</td>\n",
       "      <td>Full-time</td>\n",
       "      <td>94.0</td>\n",
       "      <td>True</td>\n",
       "      <td>...</td>\n",
       "      <td>0.0</td>\n",
       "      <td>5000.0</td>\n",
       "      <td>3264.37</td>\n",
       "      <td>15000</td>\n",
       "      <td>449.55</td>\n",
       "      <td>0</td>\n",
       "      <td>0</td>\n",
       "      <td>0.0</td>\n",
       "      <td>274</td>\n",
       "      <td>21</td>\n",
       "    </tr>\n",
       "  </tbody>\n",
       "</table>\n",
       "<p>5 rows × 46 columns</p>\n",
       "</div>"
      ],
      "text/plain": [
       "       Term  LoanStatus  BorrowerRate  ProsperRating (numeric)  ProsperScore  \\\n",
       "49719    36           1        0.0679                      4.0           6.0   \n",
       "49720    36           1        0.1899                      4.0           6.0   \n",
       "49721    36           1        0.2639                      2.0           3.0   \n",
       "49722    36           0        0.1110                      6.0           8.0   \n",
       "49723    60           1        0.2605                      4.0           5.0   \n",
       "\n",
       "      ListingCategory BorrowerState EmploymentStatus  \\\n",
       "49719        Personal            WA        Full-time   \n",
       "49720        Business            CO        Full-time   \n",
       "49721            Reno            FL         Employed   \n",
       "49722           Other            PA         Employed   \n",
       "49723            Reno            GA        Full-time   \n",
       "\n",
       "       EmploymentStatusDuration  IsBorrowerHomeowner  ...  \\\n",
       "49719                      69.0                 True  ...   \n",
       "49720                      22.0                False  ...   \n",
       "49721                      25.0                False  ...   \n",
       "49722                      21.0                 True  ...   \n",
       "49723                      94.0                 True  ...   \n",
       "\n",
       "       ProsperPaymentsOneMonthPlusLate  ProsperPrincipalBorrowed  \\\n",
       "49719                              0.0                    1000.0   \n",
       "49720                              0.0                   14250.0   \n",
       "49721                              0.0                       0.0   \n",
       "49722                              0.0                   33501.0   \n",
       "49723                              0.0                    5000.0   \n",
       "\n",
       "       ProsperPrincipalOutstanding  LoanOriginalAmount  MonthlyLoanPayment  \\\n",
       "49719                       847.61                4292              132.11   \n",
       "49720                         0.02                2000               73.30   \n",
       "49721                         0.00                2500              101.25   \n",
       "49722                      4815.42                2000               65.57   \n",
       "49723                      3264.37               15000              449.55   \n",
       "\n",
       "       Recommendations  InvestmentFromFriendsCount  \\\n",
       "49719                2                           0   \n",
       "49720                0                           0   \n",
       "49721                0                           0   \n",
       "49722                0                           0   \n",
       "49723                0                           0   \n",
       "\n",
       "       InvestmentFromFriendsAmount  Investors  YearsWithCredit  \n",
       "49719                          0.0        194               42  \n",
       "49720                          0.0         25               10  \n",
       "49721                          0.0         26                6  \n",
       "49722                          0.0         22               22  \n",
       "49723                          0.0        274               21  \n",
       "\n",
       "[5 rows x 46 columns]"
      ]
     },
     "execution_count": 4,
     "metadata": {},
     "output_type": "execute_result"
    }
   ],
   "source": [
    "## TODO :  Drop any NA, null values.  \n",
    "## Hint : Using `.na.drop()`\n",
    "prosper_clean = data.dropna()\n",
    "\n",
    "print(\"Original record count {:,}, cleaned records count {:,},  dropped {:,}\"\\\n",
    "      .format(len(data), len(prosper_clean), \n",
    "              (len(data) - len(prosper_clean))))\n",
    "prosper_clean.tail()"
   ]
  },
  {
   "cell_type": "markdown",
   "metadata": {},
   "source": [
    "## Look at some summary data\n",
    "\n",
    "Let's look at some summary data here.\n",
    "\n",
    "We'd like to see the cardinality of the categorical columns."
   ]
  },
  {
   "cell_type": "code",
   "execution_count": null,
   "metadata": {},
   "outputs": [],
   "source": [
    "print(prosper_clean['LoanStatus'].value_counts())\n"
   ]
  },
  {
   "cell_type": "markdown",
   "metadata": {},
   "source": [
    "It looks like \"good\" loans outnumber bad about 2-1.  That's a class imbalance but not a dramatic one. We can probably get away with using it as is.\n",
    "\n",
    "Let's now look at the Employment Status:"
   ]
  },
  {
   "cell_type": "code",
   "execution_count": null,
   "metadata": {},
   "outputs": [],
   "source": [
    "\n",
    "print(prosper_clean['EmploymentStatus'].value_counts())\n",
    "\n"
   ]
  },
  {
   "cell_type": "markdown",
   "metadata": {},
   "source": [
    "It appears that there are a variety of different statuses although Full-Time and Employed (which seem to be the same thing), are the majority."
   ]
  },
  {
   "cell_type": "code",
   "execution_count": null,
   "metadata": {},
   "outputs": [],
   "source": [
    "print(prosper_clean['ListingCategory'].value_counts())\n",
    "\n"
   ]
  },
  {
   "cell_type": "markdown",
   "metadata": {},
   "source": [
    "Hmmmm... the lions share of these appear to be \"debt\" -- not very meaningful.  Many of the more specific categories like \"boat\" and \"RV\" don't account for many loans."
   ]
  },
  {
   "cell_type": "markdown",
   "metadata": {},
   "source": [
    "## Step 3: Converting Categorical columns \n",
    "\n",
    "Convert categorical columns to numeric.   \n",
    "Here let's convert **EmploymentStatus** column"
   ]
  },
  {
   "cell_type": "code",
   "execution_count": null,
   "metadata": {
    "scrolled": true
   },
   "outputs": [],
   "source": [
    "# use pd.factorize on EmploymentStatus, ListingCategory\n",
    "\n",
    "prosper_clean['EmploymentStatusFactor'] = pd.factorize(prosper_clean['EmploymentStatus'])[0]\n",
    "prosper_clean['ListingCategoryFactor'] = pd.factorize(prosper_clean['ListingCategory'])[0]"
   ]
  },
  {
   "cell_type": "markdown",
   "metadata": {},
   "source": [
    "## Step 4: Build feature vectors \n",
    "\n",
    "We're going to use this from the `feature_columns` list.  This will get *only* the feature columns."
   ]
  },
  {
   "cell_type": "code",
   "execution_count": null,
   "metadata": {
    "scrolled": true
   },
   "outputs": [],
   "source": [
    "feature_columns = ['EmploymentStatusFactor', 'CreditScore', 'StatedMonthlyIncome', 'ListingCategoryFactor']\n",
    "features = prosper_clean[feature_columns]\n",
    "label = prosper_clean['LoanStatus']"
   ]
  },
  {
   "cell_type": "markdown",
   "metadata": {},
   "source": [
    "## Step 5: Split Data into training and test.\n",
    "\n",
    "We will split our the data up into training and test.  (You know the drill by now).\n",
    "\n",
    "**=> TODO: Split dataset into 70% training, 30% validation**\n"
   ]
  },
  {
   "cell_type": "code",
   "execution_count": null,
   "metadata": {
    "scrolled": true
   },
   "outputs": [],
   "source": [
    "## TODO :  Split the data into 70% training and 30% test sets \n",
    "## Hint : 0.7   , 0.3\n",
    "from sklearn.model_selection import train_test_split\n",
    "train_x, test_x, train_y, test_y = train_test_split(features, label)\n",
    "print(\"training set = \" , len(train_x))\n",
    "print(\"testing set = \" , len(test_x))"
   ]
  },
  {
   "cell_type": "code",
   "execution_count": null,
   "metadata": {},
   "outputs": [],
   "source": [
    "len(train_x.keys())"
   ]
  },
  {
   "cell_type": "markdown",
   "metadata": {},
   "source": [
    "## Step 6: Neural Network\n",
    "\n",
    "Here we are going to define our network. We will do this with the Analytics Zoo Keras style API.\n",
    "\n",
    "Here's what we have:\n",
    "\n",
    " * Input Layer\n",
    " * Hidden Layer (4 Neurons), with Dropout\n",
    " * Hidden Layer (4 Neurons), with Dropout\n",
    " * Output Layer (1 Neuron)\n",
    " \n",
    " This is *binary* clasification."
   ]
  },
  {
   "cell_type": "code",
   "execution_count": null,
   "metadata": {},
   "outputs": [],
   "source": [
    "from zoo.pipeline.api.keras.layers import Dense, Dropout\n",
    "from zoo.pipeline.api.keras.models import Sequential\n",
    "\n",
    "def build_model(train_x):\n",
    "  model = Sequential()\n",
    "\n",
    "  model.add(Dense(4, input_dim=len(train_x.columns)))\n",
    "  model.add(Dropout(0.2))\n",
    "  model.add(Dense(4))\n",
    "  model.add(Dropout(0.2))\n",
    "  model.add(Dense(output_dim=1, activation='sigmoid'))\n",
    "  \n",
    "  model.compile(loss='binary_crossentropy', optimizer='adam')\n",
    "  return model\n",
    "\n",
    "\n",
    "model = build_model(train_x)\n",
    "model.summary()"
   ]
  },
  {
   "cell_type": "markdown",
   "metadata": {},
   "source": [
    "Now it's time to train. We will do this with the `model.fit()` from analytics zoo. Notice the Keras-like `.fit` semantics."
   ]
  },
  {
   "cell_type": "code",
   "execution_count": 20,
   "metadata": {},
   "outputs": [
    {
     "name": "stdout",
     "output_type": "stream",
     "text": [
      "Training begins.\n",
      "Training completed.\n",
      "CPU times: user 370 ms, sys: 10 ms, total: 380 ms\n",
      "Wall time: 11.6 s\n"
     ]
    }
   ],
   "source": [
    "%%time\n",
    "# Train the model\n",
    "print(\"Training begins.\")\n",
    "model.fit(\n",
    "    train_x.values,\n",
    "    train_y.values,\n",
    "    batch_size=500,\n",
    "    nb_epoch=2)\n",
    "print(\"Training completed.\")"
   ]
  },
  {
   "cell_type": "code",
   "execution_count": 21,
   "metadata": {},
   "outputs": [],
   "source": [
    "predictions = model.predict(test_x.values)"
   ]
  },
  {
   "cell_type": "code",
   "execution_count": 22,
   "metadata": {},
   "outputs": [
    {
     "data": {
      "text/plain": [
       "[array([1.], dtype=float32), array([1.], dtype=float32)]"
      ]
     },
     "execution_count": 22,
     "metadata": {},
     "output_type": "execute_result"
    }
   ],
   "source": [
    "model.predict(test_x.iloc[0:2].values).collect()"
   ]
  },
  {
   "cell_type": "markdown",
   "metadata": {},
   "source": [
    "## Step 7: Evaluate the model.\n",
    "\n",
    "Let us check to see how the model did, using accuracy as a measure."
   ]
  },
  {
   "cell_type": "code",
   "execution_count": 23,
   "metadata": {
    "scrolled": true
   },
   "outputs": [
    {
     "data": {
      "text/plain": [
       "0.671707827206178"
      ]
     },
     "execution_count": 23,
     "metadata": {},
     "output_type": "execute_result"
    }
   ],
   "source": [
    "from sklearn.metrics import accuracy_score\n",
    "accuracy_score(test_y.values, predictions.collect())\n"
   ]
  },
  {
   "cell_type": "markdown",
   "metadata": {},
   "source": [
    "The results indicate that we get 67% accuracy, meaning we are right 2/3 of the time."
   ]
  },
  {
   "cell_type": "markdown",
   "metadata": {
    "collapsed": true
   },
   "source": [
    "## Step 8: Improve Accuracy\n",
    "\n",
    "### Add more features\n",
    "Look at the schema of the full dataset.  Are there any columns you want to add. Make sure you up the number of neurons in the hidden layer as you add more features."
   ]
  }
 ],
 "metadata": {
  "anaconda-cloud": {},
  "kernelspec": {
   "display_name": "Python 3",
   "language": "python",
   "name": "python3"
  },
  "language_info": {
   "codemirror_mode": {
    "name": "ipython",
    "version": 3
   },
   "file_extension": ".py",
   "mimetype": "text/x-python",
   "name": "python",
   "nbconvert_exporter": "python",
   "pygments_lexer": "ipython3",
   "version": "3.7.3"
  }
 },
 "nbformat": 4,
 "nbformat_minor": 1
}
