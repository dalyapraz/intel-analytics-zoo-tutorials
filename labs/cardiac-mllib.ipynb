{
 "cells": [
  {
   "cell_type": "markdown",
   "metadata": {},
   "source": [
    "# Lab : Cardiac Dataset on MLLib\n",
    "\n",
    "### Overview\n",
    "Analyze some medical data using NNFrames on Analytics ZOo\n",
    "\n",
    "### Runtime\n",
    "30 mins"
   ]
  },
  {
   "cell_type": "markdown",
   "metadata": {},
   "source": [
    "## Step 1 -About Data\n",
    "\n",
    "[About data](https://archive.ics.uci.edu/ml/datasets/heart+Disease)\n",
    "\n",
    "This is a classification dataset, based on inputs  we predict the `target`\n",
    "\n",
    "Sample Data:\n",
    "```text\n",
    "age,sex,cp,trestbps,chol,fbs,restecg,thalach,exang,oldpeak,slope,ca,thal,target\n",
    "63,1,1,145,233,1,2,150,0,2.3,3,0,fixed,0\n",
    "67,1,4,160,286,0,2,108,1,1.5,2,3,normal,1\n",
    "67,1,4,120,229,0,2,129,1,2.6,2,2,reversible,0\n",
    "37,1,3,130,250,0,0,187,0,3.5,3,0,normal,0\n",
    "41,0,2,130,204,0,2,172,0,1.4,1,0,normal,0\n",
    "\n",
    "```"
   ]
  },
  {
   "cell_type": "markdown",
   "metadata": {},
   "source": [
    "## Step 2 - Init"
   ]
  },
  {
   "cell_type": "code",
   "execution_count": 1,
   "metadata": {},
   "outputs": [
    {
     "name": "stderr",
     "output_type": "stream",
     "text": [
      "WARNING:root:Trying to search from: /tmp/spark-e7d8f125-05a6-4d0f-93db-1640a80db845/userFiles-56fa7edf-e2c8-450f-8f07-500b0596ae6d/analytics-zoo-bigdl_0.9.1-spark_2.4.3-0.6.0-SNAPSHOT-python-api.zip/zoo, but can not find the jar for Analytics-Zoo\n"
     ]
    },
    {
     "name": "stdout",
     "output_type": "stream",
     "text": [
      "zoo version :  0.6.0.dev0\n",
      "Spark UI running on http://localhost:4041\n"
     ]
    },
    {
     "data": {
      "text/html": [
       "\n",
       "        <div>\n",
       "            <p><b>SparkContext</b></p>\n",
       "\n",
       "            <p><a href=\"http://a2ea94a938f3:4041\">Spark UI</a></p>\n",
       "\n",
       "            <dl>\n",
       "              <dt>Version</dt>\n",
       "                <dd><code>v2.4.3</code></dd>\n",
       "              <dt>Master</dt>\n",
       "                <dd><code>local[*]</code></dd>\n",
       "              <dt>AppName</dt>\n",
       "                <dd><code>PySparkShell</code></dd>\n",
       "            </dl>\n",
       "        </div>\n",
       "        "
      ],
      "text/plain": [
       "<SparkContext master=local[*] appName=PySparkShell>"
      ]
     },
     "execution_count": 1,
     "metadata": {},
     "output_type": "execute_result"
    }
   ],
   "source": [
    "import zoo\n",
    "from zoo.common.nncontext import init_nncontext\n",
    "\n",
    "sc = init_nncontext(\"Cardiac\")\n",
    "print(\"zoo version : \", zoo.__version__)\n",
    "\n",
    "## Spark UI\n",
    "print('Spark UI running on http://localhost:' + sc.uiWebUrl.split(':')[2])\n",
    "sc"
   ]
  },
  {
   "cell_type": "markdown",
   "metadata": {},
   "source": [
    "## Step 3 - Explore Dataset"
   ]
  },
  {
   "cell_type": "markdown",
   "metadata": {},
   "source": [
    "### 3.1 - Load Data"
   ]
  },
  {
   "cell_type": "code",
   "execution_count": 2,
   "metadata": {},
   "outputs": [
    {
     "name": "stdout",
     "output_type": "stream",
     "text": [
      "--2019-11-01 19:55:36--  https://elephantscale-public.s3.amazonaws.com/data/heart/heart.csv\n",
      "Resolving elephantscale-public.s3.amazonaws.com (elephantscale-public.s3.amazonaws.com)... 52.216.186.75\n",
      "Connecting to elephantscale-public.s3.amazonaws.com (elephantscale-public.s3.amazonaws.com)|52.216.186.75|:443... connected.\n",
      "HTTP request sent, awaiting response... 200 OK\n",
      "Length: 13273 (13K) [text/csv]\n",
      "Saving to: ‘heart.csv.1’\n",
      "\n",
      "heart.csv.1         100%[===================>]  12.96K  --.-KB/s    in 0.001s  \n",
      "\n",
      "2019-11-01 19:55:36 (19.5 MB/s) - ‘heart.csv.1’ saved [13273/13273]\n",
      "\n"
     ]
    }
   ],
   "source": [
    "!wget 'https://elephantscale-public.s3.amazonaws.com/data/heart/heart.csv'"
   ]
  },
  {
   "cell_type": "code",
   "execution_count": 3,
   "metadata": {},
   "outputs": [
    {
     "name": "stdout",
     "output_type": "stream",
     "text": [
      "record count  303\n",
      "clean data count  303\n",
      "root\n",
      " |-- age: integer (nullable = true)\n",
      " |-- sex: integer (nullable = true)\n",
      " |-- cp: integer (nullable = true)\n",
      " |-- trestbps: integer (nullable = true)\n",
      " |-- chol: integer (nullable = true)\n",
      " |-- fbs: integer (nullable = true)\n",
      " |-- restecg: integer (nullable = true)\n",
      " |-- thalach: integer (nullable = true)\n",
      " |-- exang: integer (nullable = true)\n",
      " |-- oldpeak: double (nullable = true)\n",
      " |-- slope: integer (nullable = true)\n",
      " |-- ca: integer (nullable = true)\n",
      " |-- thal: string (nullable = true)\n",
      " |-- target: integer (nullable = true)\n",
      "\n",
      "+---+---+---+--------+----+---+-------+-------+-----+-------+-----+---+----------+------+\n",
      "|age|sex| cp|trestbps|chol|fbs|restecg|thalach|exang|oldpeak|slope| ca|      thal|target|\n",
      "+---+---+---+--------+----+---+-------+-------+-----+-------+-----+---+----------+------+\n",
      "| 63|  1|  1|     145| 233|  1|      2|    150|    0|    2.3|    3|  0|     fixed|     0|\n",
      "| 67|  1|  4|     160| 286|  0|      2|    108|    1|    1.5|    2|  3|    normal|     1|\n",
      "| 67|  1|  4|     120| 229|  0|      2|    129|    1|    2.6|    2|  2|reversible|     0|\n",
      "| 37|  1|  3|     130| 250|  0|      0|    187|    0|    3.5|    3|  0|    normal|     0|\n",
      "| 41|  0|  2|     130| 204|  0|      2|    172|    0|    1.4|    1|  0|    normal|     0|\n",
      "| 56|  1|  2|     120| 236|  0|      0|    178|    0|    0.8|    1|  0|    normal|     0|\n",
      "| 62|  0|  4|     140| 268|  0|      2|    160|    0|    3.6|    3|  2|    normal|     1|\n",
      "| 57|  0|  4|     120| 354|  0|      0|    163|    1|    0.6|    1|  0|    normal|     0|\n",
      "| 63|  1|  4|     130| 254|  0|      2|    147|    0|    1.4|    2|  1|reversible|     1|\n",
      "| 53|  1|  4|     140| 203|  1|      2|    155|    1|    3.1|    3|  0|reversible|     0|\n",
      "| 57|  1|  4|     140| 192|  0|      0|    148|    0|    0.4|    2|  0|     fixed|     0|\n",
      "| 56|  0|  2|     140| 294|  0|      2|    153|    0|    1.3|    2|  0|    normal|     0|\n",
      "| 56|  1|  3|     130| 256|  1|      2|    142|    1|    0.6|    2|  1|     fixed|     1|\n",
      "| 44|  1|  2|     120| 263|  0|      0|    173|    0|    0.0|    1|  0|reversible|     0|\n",
      "| 52|  1|  3|     172| 199|  1|      0|    162|    0|    0.5|    1|  0|reversible|     0|\n",
      "| 57|  1|  3|     150| 168|  0|      0|    174|    0|    1.6|    1|  0|    normal|     0|\n",
      "| 48|  1|  2|     110| 229|  0|      0|    168|    0|    1.0|    3|  0|reversible|     0|\n",
      "| 54|  1|  4|     140| 239|  0|      0|    160|    0|    1.2|    1|  0|    normal|     0|\n",
      "| 48|  0|  3|     130| 275|  0|      0|    139|    0|    0.2|    1|  0|    normal|     0|\n",
      "| 49|  1|  2|     130| 266|  0|      0|    171|    0|    0.6|    1|  0|    normal|     0|\n",
      "+---+---+---+--------+----+---+-------+-------+-----+-------+-----+---+----------+------+\n",
      "only showing top 20 rows\n",
      "\n"
     ]
    }
   ],
   "source": [
    "\n",
    "data = spark.read.csv(\"heart.csv\", \\\n",
    "                      header=True, inferSchema=True)\n",
    "print(\"record count \", data.count())\n",
    "data = data.na.drop()\n",
    "print (\"clean data count \", data.count())\n",
    "data.printSchema()\n",
    "data.show()"
   ]
  },
  {
   "cell_type": "markdown",
   "metadata": {},
   "source": [
    "### 3.2 - Basic Exploration"
   ]
  },
  {
   "cell_type": "code",
   "execution_count": 4,
   "metadata": {},
   "outputs": [
    {
     "data": {
      "text/html": [
       "<div>\n",
       "<style scoped>\n",
       "    .dataframe tbody tr th:only-of-type {\n",
       "        vertical-align: middle;\n",
       "    }\n",
       "\n",
       "    .dataframe tbody tr th {\n",
       "        vertical-align: top;\n",
       "    }\n",
       "\n",
       "    .dataframe thead th {\n",
       "        text-align: right;\n",
       "    }\n",
       "</style>\n",
       "<table border=\"1\" class=\"dataframe\">\n",
       "  <thead>\n",
       "    <tr style=\"text-align: right;\">\n",
       "      <th></th>\n",
       "      <th>0</th>\n",
       "      <th>1</th>\n",
       "      <th>2</th>\n",
       "      <th>3</th>\n",
       "      <th>4</th>\n",
       "    </tr>\n",
       "  </thead>\n",
       "  <tbody>\n",
       "    <tr>\n",
       "      <td>summary</td>\n",
       "      <td>count</td>\n",
       "      <td>mean</td>\n",
       "      <td>stddev</td>\n",
       "      <td>min</td>\n",
       "      <td>max</td>\n",
       "    </tr>\n",
       "    <tr>\n",
       "      <td>age</td>\n",
       "      <td>303</td>\n",
       "      <td>54.59405940594059</td>\n",
       "      <td>9.01637019425794</td>\n",
       "      <td>29</td>\n",
       "      <td>77</td>\n",
       "    </tr>\n",
       "    <tr>\n",
       "      <td>sex</td>\n",
       "      <td>303</td>\n",
       "      <td>0.6765676567656765</td>\n",
       "      <td>0.4685599693856874</td>\n",
       "      <td>0</td>\n",
       "      <td>1</td>\n",
       "    </tr>\n",
       "    <tr>\n",
       "      <td>cp</td>\n",
       "      <td>303</td>\n",
       "      <td>3.108910891089109</td>\n",
       "      <td>1.0284141018485655</td>\n",
       "      <td>0</td>\n",
       "      <td>4</td>\n",
       "    </tr>\n",
       "    <tr>\n",
       "      <td>trestbps</td>\n",
       "      <td>303</td>\n",
       "      <td>131.78547854785478</td>\n",
       "      <td>17.748337866922796</td>\n",
       "      <td>94</td>\n",
       "      <td>200</td>\n",
       "    </tr>\n",
       "    <tr>\n",
       "      <td>chol</td>\n",
       "      <td>303</td>\n",
       "      <td>246.54785478547853</td>\n",
       "      <td>52.175933152649066</td>\n",
       "      <td>126</td>\n",
       "      <td>564</td>\n",
       "    </tr>\n",
       "    <tr>\n",
       "      <td>fbs</td>\n",
       "      <td>303</td>\n",
       "      <td>0.1485148514851485</td>\n",
       "      <td>0.3561978749279765</td>\n",
       "      <td>0</td>\n",
       "      <td>1</td>\n",
       "    </tr>\n",
       "    <tr>\n",
       "      <td>restecg</td>\n",
       "      <td>303</td>\n",
       "      <td>0.9900990099009901</td>\n",
       "      <td>0.9882928907194963</td>\n",
       "      <td>0</td>\n",
       "      <td>2</td>\n",
       "    </tr>\n",
       "    <tr>\n",
       "      <td>thalach</td>\n",
       "      <td>303</td>\n",
       "      <td>149.1947194719472</td>\n",
       "      <td>23.17336844604762</td>\n",
       "      <td>71</td>\n",
       "      <td>202</td>\n",
       "    </tr>\n",
       "    <tr>\n",
       "      <td>exang</td>\n",
       "      <td>303</td>\n",
       "      <td>0.32673267326732675</td>\n",
       "      <td>0.4697944645223164</td>\n",
       "      <td>0</td>\n",
       "      <td>1</td>\n",
       "    </tr>\n",
       "    <tr>\n",
       "      <td>oldpeak</td>\n",
       "      <td>303</td>\n",
       "      <td>1.0577557755775573</td>\n",
       "      <td>1.1650246194814895</td>\n",
       "      <td>0.0</td>\n",
       "      <td>6.2</td>\n",
       "    </tr>\n",
       "    <tr>\n",
       "      <td>slope</td>\n",
       "      <td>303</td>\n",
       "      <td>1.5907590759075907</td>\n",
       "      <td>0.617767089494673</td>\n",
       "      <td>1</td>\n",
       "      <td>3</td>\n",
       "    </tr>\n",
       "    <tr>\n",
       "      <td>ca</td>\n",
       "      <td>303</td>\n",
       "      <td>0.6831683168316832</td>\n",
       "      <td>0.9377727566414015</td>\n",
       "      <td>0</td>\n",
       "      <td>3</td>\n",
       "    </tr>\n",
       "    <tr>\n",
       "      <td>thal</td>\n",
       "      <td>303</td>\n",
       "      <td>1.5</td>\n",
       "      <td>0.7071067811865476</td>\n",
       "      <td>1</td>\n",
       "      <td>reversible</td>\n",
       "    </tr>\n",
       "    <tr>\n",
       "      <td>target</td>\n",
       "      <td>303</td>\n",
       "      <td>0.2739273927392739</td>\n",
       "      <td>0.4467099241119827</td>\n",
       "      <td>0</td>\n",
       "      <td>1</td>\n",
       "    </tr>\n",
       "  </tbody>\n",
       "</table>\n",
       "</div>"
      ],
      "text/plain": [
       "              0                    1                   2    3           4\n",
       "summary   count                 mean              stddev  min         max\n",
       "age         303    54.59405940594059    9.01637019425794   29          77\n",
       "sex         303   0.6765676567656765  0.4685599693856874    0           1\n",
       "cp          303    3.108910891089109  1.0284141018485655    0           4\n",
       "trestbps    303   131.78547854785478  17.748337866922796   94         200\n",
       "chol        303   246.54785478547853  52.175933152649066  126         564\n",
       "fbs         303   0.1485148514851485  0.3561978749279765    0           1\n",
       "restecg     303   0.9900990099009901  0.9882928907194963    0           2\n",
       "thalach     303    149.1947194719472   23.17336844604762   71         202\n",
       "exang       303  0.32673267326732675  0.4697944645223164    0           1\n",
       "oldpeak     303   1.0577557755775573  1.1650246194814895  0.0         6.2\n",
       "slope       303   1.5907590759075907   0.617767089494673    1           3\n",
       "ca          303   0.6831683168316832  0.9377727566414015    0           3\n",
       "thal        303                  1.5  0.7071067811865476    1  reversible\n",
       "target      303   0.2739273927392739  0.4467099241119827    0           1"
      ]
     },
     "execution_count": 4,
     "metadata": {},
     "output_type": "execute_result"
    }
   ],
   "source": [
    "data.describe().toPandas().T"
   ]
  },
  {
   "cell_type": "code",
   "execution_count": 5,
   "metadata": {},
   "outputs": [
    {
     "name": "stdout",
     "output_type": "stream",
     "text": [
      "+------+-----+\n",
      "|target|count|\n",
      "+------+-----+\n",
      "|     1|   83|\n",
      "|     0|  220|\n",
      "+------+-----+\n",
      "\n"
     ]
    }
   ],
   "source": [
    "data.groupBy('target').count().show()"
   ]
  },
  {
   "cell_type": "markdown",
   "metadata": {},
   "source": [
    "### 3.3 - Graph"
   ]
  },
  {
   "cell_type": "code",
   "execution_count": 6,
   "metadata": {},
   "outputs": [
    {
     "name": "stdout",
     "output_type": "stream",
     "text": [
      "   target  count\n",
      "0       1     83\n",
      "1       0    220\n"
     ]
    },
    {
     "data": {
      "image/png": "[encoded data removed]",
      "text/plain": [
       "<Figure size 432x288 with 1 Axes>"
      ]
     },
     "metadata": {
      "needs_background": "light"
     },
     "output_type": "display_data"
    }
   ],
   "source": [
    "## basic frequency graph\n",
    "\n",
    "%matplotlib inline\n",
    "import pandas as pd\n",
    "import matplotlib.pyplot as plt\n",
    "\n",
    "a = data.groupBy(\"target\").count().toPandas()\n",
    "print(a)\n",
    "a = a.set_index('target')\n",
    "a.plot(kind='bar', rot=0)\n",
    "plt.show()"
   ]
  },
  {
   "cell_type": "markdown",
   "metadata": {},
   "source": [
    "## Step 4 - Create Feature Vectors"
   ]
  },
  {
   "cell_type": "markdown",
   "metadata": {},
   "source": [
    "### 4.1 - No zeroes in Target Label column"
   ]
  },
  {
   "cell_type": "code",
   "execution_count": 7,
   "metadata": {},
   "outputs": [
    {
     "name": "stdout",
     "output_type": "stream",
     "text": [
      "+-------+-----+\n",
      "|target2|count|\n",
      "+-------+-----+\n",
      "|      1|  220|\n",
      "|      2|   83|\n",
      "+-------+-----+\n",
      "\n",
      "+---+---+---+--------+----+---+-------+-------+-----+-------+-----+---+----------+------+-------+\n",
      "|age|sex| cp|trestbps|chol|fbs|restecg|thalach|exang|oldpeak|slope| ca|      thal|target|target2|\n",
      "+---+---+---+--------+----+---+-------+-------+-----+-------+-----+---+----------+------+-------+\n",
      "| 63|  1|  1|     145| 233|  1|      2|    150|    0|    2.3|    3|  0|     fixed|     0|      1|\n",
      "| 67|  1|  4|     160| 286|  0|      2|    108|    1|    1.5|    2|  3|    normal|     1|      2|\n",
      "| 67|  1|  4|     120| 229|  0|      2|    129|    1|    2.6|    2|  2|reversible|     0|      1|\n",
      "| 37|  1|  3|     130| 250|  0|      0|    187|    0|    3.5|    3|  0|    normal|     0|      1|\n",
      "| 41|  0|  2|     130| 204|  0|      2|    172|    0|    1.4|    1|  0|    normal|     0|      1|\n",
      "| 56|  1|  2|     120| 236|  0|      0|    178|    0|    0.8|    1|  0|    normal|     0|      1|\n",
      "| 62|  0|  4|     140| 268|  0|      2|    160|    0|    3.6|    3|  2|    normal|     1|      2|\n",
      "| 57|  0|  4|     120| 354|  0|      0|    163|    1|    0.6|    1|  0|    normal|     0|      1|\n",
      "| 63|  1|  4|     130| 254|  0|      2|    147|    0|    1.4|    2|  1|reversible|     1|      2|\n",
      "| 53|  1|  4|     140| 203|  1|      2|    155|    1|    3.1|    3|  0|reversible|     0|      1|\n",
      "+---+---+---+--------+----+---+-------+-------+-----+-------+-----+---+----------+------+-------+\n",
      "only showing top 10 rows\n",
      "\n"
     ]
    }
   ],
   "source": [
    "# Analyitics-Zoo prefers no 0 (zero) in label column\n",
    "# so we will to add +1 to label\n",
    "data = data.withColumn(\"target2\", data['target']+1)\n",
    "data.groupBy(\"target2\").count().show()\n",
    "data.show(10)"
   ]
  },
  {
   "cell_type": "markdown",
   "metadata": {},
   "source": [
    "### Convert Categorical Columns\n",
    "\n",
    "Here we are going to convert categorical columns using the StringIndexer class.\n"
   ]
  },
  {
   "cell_type": "code",
   "execution_count": 8,
   "metadata": {},
   "outputs": [],
   "source": [
    "from pyspark.ml.feature import StringIndexer\n",
    "\n",
    "indexer = StringIndexer(inputCol=\"thal\", outputCol=\"thalIndex\")\n",
    "data = indexer.fit(data).transform(data)"
   ]
  },
  {
   "cell_type": "markdown",
   "metadata": {},
   "source": [
    "### Select Columns of Interest\n",
    "\n",
    "Now let's select columms of interest:\n",
    "\n",
    "1. Age\n",
    "2. Sex\n",
    "3. trestbps\n",
    "4. chol\n",
    "5. thalach\n",
    "6. oldpeak\n",
    "7. slope\n",
    "8. ca\n",
    "9. thalIndex (the converted thal column from the last step)\n",
    "\n"
   ]
  },
  {
   "cell_type": "code",
   "execution_count": 9,
   "metadata": {},
   "outputs": [
    {
     "name": "stdout",
     "output_type": "stream",
     "text": [
      "+---+---+--------+----+-------+-------+-----+---+---------+-------+\n",
      "|age|sex|trestbps|chol|thalach|oldpeak|slope| ca|thalIndex|target2|\n",
      "+---+---+--------+----+-------+-------+-----+---+---------+-------+\n",
      "| 63|  1|     145| 233|    150|    2.3|    3|  0|      2.0|      1|\n",
      "| 67|  1|     160| 286|    108|    1.5|    2|  3|      0.0|      2|\n",
      "| 67|  1|     120| 229|    129|    2.6|    2|  2|      1.0|      1|\n",
      "| 37|  1|     130| 250|    187|    3.5|    3|  0|      0.0|      1|\n",
      "| 41|  0|     130| 204|    172|    1.4|    1|  0|      0.0|      1|\n",
      "| 56|  1|     120| 236|    178|    0.8|    1|  0|      0.0|      1|\n",
      "| 62|  0|     140| 268|    160|    3.6|    3|  2|      0.0|      2|\n",
      "| 57|  0|     120| 354|    163|    0.6|    1|  0|      0.0|      1|\n",
      "| 63|  1|     130| 254|    147|    1.4|    2|  1|      1.0|      2|\n",
      "| 53|  1|     140| 203|    155|    3.1|    3|  0|      1.0|      1|\n",
      "| 57|  1|     140| 192|    148|    0.4|    2|  0|      2.0|      1|\n",
      "| 56|  0|     140| 294|    153|    1.3|    2|  0|      0.0|      1|\n",
      "| 56|  1|     130| 256|    142|    0.6|    2|  1|      2.0|      2|\n",
      "| 44|  1|     120| 263|    173|    0.0|    1|  0|      1.0|      1|\n",
      "| 52|  1|     172| 199|    162|    0.5|    1|  0|      1.0|      1|\n",
      "| 57|  1|     150| 168|    174|    1.6|    1|  0|      0.0|      1|\n",
      "| 48|  1|     110| 229|    168|    1.0|    3|  0|      1.0|      1|\n",
      "| 54|  1|     140| 239|    160|    1.2|    1|  0|      0.0|      1|\n",
      "| 48|  0|     130| 275|    139|    0.2|    1|  0|      0.0|      1|\n",
      "| 49|  1|     130| 266|    171|    0.6|    1|  0|      0.0|      1|\n",
      "+---+---+--------+----+-------+-------+-----+---+---------+-------+\n",
      "only showing top 20 rows\n",
      "\n"
     ]
    }
   ],
   "source": [
    "feature_columns = ['age', 'sex', 'trestbps', 'chol', 'thalach', 'oldpeak', 'slope', 'ca', 'thalIndex']\n",
    "target_columns = ['target2']\n",
    "\n",
    "data = data.select(feature_columns + target_columns)\n",
    "data.show()"
   ]
  },
  {
   "cell_type": "markdown",
   "metadata": {},
   "source": [
    "### 4.2 - Convert to Double\n",
    "Analytics Zoo likes all numbers in Double"
   ]
  },
  {
   "cell_type": "code",
   "execution_count": 10,
   "metadata": {},
   "outputs": [
    {
     "name": "stdout",
     "output_type": "stream",
     "text": [
      "root\n",
      " |-- age: double (nullable = true)\n",
      " |-- sex: double (nullable = true)\n",
      " |-- trestbps: double (nullable = true)\n",
      " |-- chol: double (nullable = true)\n",
      " |-- thalach: double (nullable = true)\n",
      " |-- oldpeak: double (nullable = true)\n",
      " |-- slope: double (nullable = true)\n",
      " |-- ca: double (nullable = true)\n",
      " |-- thalIndex: double (nullable = false)\n",
      " |-- target2: double (nullable = true)\n",
      "\n",
      "+----+---+--------+-----+-------+-------+-----+---+---------+-------+\n",
      "| age|sex|trestbps| chol|thalach|oldpeak|slope| ca|thalIndex|target2|\n",
      "+----+---+--------+-----+-------+-------+-----+---+---------+-------+\n",
      "|63.0|1.0|   145.0|233.0|  150.0|    2.3|  3.0|0.0|      2.0|    1.0|\n",
      "|67.0|1.0|   160.0|286.0|  108.0|    1.5|  2.0|3.0|      0.0|    2.0|\n",
      "|67.0|1.0|   120.0|229.0|  129.0|    2.6|  2.0|2.0|      1.0|    1.0|\n",
      "|37.0|1.0|   130.0|250.0|  187.0|    3.5|  3.0|0.0|      0.0|    1.0|\n",
      "|41.0|0.0|   130.0|204.0|  172.0|    1.4|  1.0|0.0|      0.0|    1.0|\n",
      "+----+---+--------+-----+-------+-------+-----+---+---------+-------+\n",
      "only showing top 5 rows\n",
      "\n"
     ]
    }
   ],
   "source": [
    "from pyspark.sql.functions import col, udf\n",
    "# convert everything to double\n",
    "data = data.select([col(c).cast(\"double\") for c in data.columns])\n",
    "data.printSchema()\n",
    "data.show(5)"
   ]
  },
  {
   "cell_type": "markdown",
   "metadata": {},
   "source": [
    "### 4.3 - Feature Vector"
   ]
  },
  {
   "cell_type": "code",
   "execution_count": 12,
   "metadata": {},
   "outputs": [
    {
     "name": "stdout",
     "output_type": "stream",
     "text": [
      "+----+---+--------+-----+-------+-------+-----+---+---------+-------+--------------------+-----+\n",
      "| age|sex|trestbps| chol|thalach|oldpeak|slope| ca|thalIndex|target2|           assembled|label|\n",
      "+----+---+--------+-----+-------+-------+-----+---+---------+-------+--------------------+-----+\n",
      "|63.0|1.0|   145.0|233.0|  150.0|    2.3|  3.0|0.0|      2.0|    1.0|[63.0,1.0,145.0,2...|  1.0|\n",
      "|67.0|1.0|   160.0|286.0|  108.0|    1.5|  2.0|3.0|      0.0|    2.0|[67.0,1.0,160.0,2...|  2.0|\n",
      "|67.0|1.0|   120.0|229.0|  129.0|    2.6|  2.0|2.0|      1.0|    1.0|[67.0,1.0,120.0,2...|  1.0|\n",
      "|37.0|1.0|   130.0|250.0|  187.0|    3.5|  3.0|0.0|      0.0|    1.0|[37.0,1.0,130.0,2...|  1.0|\n",
      "|41.0|0.0|   130.0|204.0|  172.0|    1.4|  1.0|0.0|      0.0|    1.0|[41.0,0.0,130.0,2...|  1.0|\n",
      "+----+---+--------+-----+-------+-------+-----+---+---------+-------+--------------------+-----+\n",
      "only showing top 5 rows\n",
      "\n"
     ]
    }
   ],
   "source": [
    "from pyspark.ml.feature import VectorAssembler\n",
    "from pyspark.sql.types import DoubleType\n",
    "\n",
    "assembler = VectorAssembler (inputCols=feature_columns, outputCol='assembled')\n",
    "fv = assembler.transform(data)\n",
    "fv = fv.withColumn ('label', fv['target2'])\n",
    "fv.show(5)"
   ]
  },
  {
   "cell_type": "markdown",
   "metadata": {},
   "source": [
    "### 4.4 - Scaling"
   ]
  },
  {
   "cell_type": "code",
   "execution_count": 13,
   "metadata": {},
   "outputs": [
    {
     "name": "stdout",
     "output_type": "stream",
     "text": [
      "+----+---+--------+-----+-------+-------+-----+---+---------+-------+--------------------+-----+--------------------+\n",
      "| age|sex|trestbps| chol|thalach|oldpeak|slope| ca|thalIndex|target2|           assembled|label|              scaled|\n",
      "+----+---+--------+-----+-------+-------+-----+---+---------+-------+--------------------+-----+--------------------+\n",
      "|63.0|1.0|   145.0|233.0|  150.0|    2.3|  3.0|0.0|      2.0|    1.0|[63.0,1.0,145.0,2...|  1.0|[6.98729074368768...|\n",
      "|67.0|1.0|   160.0|286.0|  108.0|    1.5|  2.0|3.0|      0.0|    2.0|[67.0,1.0,160.0,2...|  2.0|[7.43092825122340...|\n",
      "|67.0|1.0|   120.0|229.0|  129.0|    2.6|  2.0|2.0|      1.0|    1.0|[67.0,1.0,120.0,2...|  1.0|[7.43092825122340...|\n",
      "|37.0|1.0|   130.0|250.0|  187.0|    3.5|  3.0|0.0|      0.0|    1.0|[37.0,1.0,130.0,2...|  1.0|[4.10364694470546...|\n",
      "|41.0|0.0|   130.0|204.0|  172.0|    1.4|  1.0|0.0|      0.0|    1.0|[41.0,0.0,130.0,2...|  1.0|[4.54728445224119...|\n",
      "+----+---+--------+-----+-------+-------+-----+---+---------+-------+--------------------+-----+--------------------+\n",
      "only showing top 5 rows\n",
      "\n"
     ]
    }
   ],
   "source": [
    "from pyspark.ml.feature import StandardScaler\n",
    "\n",
    "scaler = StandardScaler (inputCol=\"assembled\", outputCol=\"features\")\n",
    "fv = scaler.fit(fv).transform(fv)\n",
    "fv.show(5)"
   ]
  },
  {
   "cell_type": "code",
   "execution_count": 15,
   "metadata": {},
   "outputs": [
    {
     "name": "stdout",
     "output_type": "stream",
     "text": [
      "root\n",
      " |-- age: double (nullable = true)\n",
      " |-- sex: double (nullable = true)\n",
      " |-- trestbps: double (nullable = true)\n",
      " |-- chol: double (nullable = true)\n",
      " |-- thalach: double (nullable = true)\n",
      " |-- oldpeak: double (nullable = true)\n",
      " |-- slope: double (nullable = true)\n",
      " |-- ca: double (nullable = true)\n",
      " |-- thalIndex: double (nullable = false)\n",
      " |-- target2: double (nullable = true)\n",
      " |-- assembled: vector (nullable = true)\n",
      " |-- label: double (nullable = true)\n",
      " |-- scaled: vector (nullable = true)\n",
      " |-- features: vector (nullable = true)\n",
      "\n"
     ]
    },
    {
     "data": {
      "text/html": [
       "<div>\n",
       "<style scoped>\n",
       "    .dataframe tbody tr th:only-of-type {\n",
       "        vertical-align: middle;\n",
       "    }\n",
       "\n",
       "    .dataframe tbody tr th {\n",
       "        vertical-align: top;\n",
       "    }\n",
       "\n",
       "    .dataframe thead th {\n",
       "        text-align: right;\n",
       "    }\n",
       "</style>\n",
       "<table border=\"1\" class=\"dataframe\">\n",
       "  <thead>\n",
       "    <tr style=\"text-align: right;\">\n",
       "      <th></th>\n",
       "      <th>age</th>\n",
       "      <th>sex</th>\n",
       "      <th>trestbps</th>\n",
       "      <th>chol</th>\n",
       "      <th>thalach</th>\n",
       "      <th>oldpeak</th>\n",
       "      <th>slope</th>\n",
       "      <th>ca</th>\n",
       "      <th>thalIndex</th>\n",
       "      <th>target2</th>\n",
       "      <th>assembled</th>\n",
       "      <th>label</th>\n",
       "      <th>scaled</th>\n",
       "      <th>features</th>\n",
       "    </tr>\n",
       "  </thead>\n",
       "  <tbody>\n",
       "    <tr>\n",
       "      <td>0</td>\n",
       "      <td>63.0</td>\n",
       "      <td>1.0</td>\n",
       "      <td>145.0</td>\n",
       "      <td>233.0</td>\n",
       "      <td>150.0</td>\n",
       "      <td>2.3</td>\n",
       "      <td>3.0</td>\n",
       "      <td>0.0</td>\n",
       "      <td>2.0</td>\n",
       "      <td>1.0</td>\n",
       "      <td>[63.0, 1.0, 145.0, 233.0, 150.0, 2.3, 3.0, 0.0...</td>\n",
       "      <td>1.0</td>\n",
       "      <td>[6.987290743687681, 2.1341985345249728, 8.1697...</td>\n",
       "      <td>[6.987290743687681, 2.1341985345249728, 8.1697...</td>\n",
       "    </tr>\n",
       "    <tr>\n",
       "      <td>1</td>\n",
       "      <td>67.0</td>\n",
       "      <td>1.0</td>\n",
       "      <td>160.0</td>\n",
       "      <td>286.0</td>\n",
       "      <td>108.0</td>\n",
       "      <td>1.5</td>\n",
       "      <td>2.0</td>\n",
       "      <td>3.0</td>\n",
       "      <td>0.0</td>\n",
       "      <td>2.0</td>\n",
       "      <td>[67.0, 1.0, 160.0, 286.0, 108.0, 1.5, 2.0, 3.0...</td>\n",
       "      <td>2.0</td>\n",
       "      <td>[7.430928251223407, 2.1341985345249728, 9.0149...</td>\n",
       "      <td>[7.430928251223407, 2.1341985345249728, 9.0149...</td>\n",
       "    </tr>\n",
       "    <tr>\n",
       "      <td>2</td>\n",
       "      <td>67.0</td>\n",
       "      <td>1.0</td>\n",
       "      <td>120.0</td>\n",
       "      <td>229.0</td>\n",
       "      <td>129.0</td>\n",
       "      <td>2.6</td>\n",
       "      <td>2.0</td>\n",
       "      <td>2.0</td>\n",
       "      <td>1.0</td>\n",
       "      <td>1.0</td>\n",
       "      <td>[67.0, 1.0, 120.0, 229.0, 129.0, 2.6, 2.0, 2.0...</td>\n",
       "      <td>1.0</td>\n",
       "      <td>[7.430928251223407, 2.1341985345249728, 6.7611...</td>\n",
       "      <td>[7.430928251223407, 2.1341985345249728, 6.7611...</td>\n",
       "    </tr>\n",
       "    <tr>\n",
       "      <td>3</td>\n",
       "      <td>37.0</td>\n",
       "      <td>1.0</td>\n",
       "      <td>130.0</td>\n",
       "      <td>250.0</td>\n",
       "      <td>187.0</td>\n",
       "      <td>3.5</td>\n",
       "      <td>3.0</td>\n",
       "      <td>0.0</td>\n",
       "      <td>0.0</td>\n",
       "      <td>1.0</td>\n",
       "      <td>[37.0, 1.0, 130.0, 250.0, 187.0, 3.5, 3.0, 0.0...</td>\n",
       "      <td>1.0</td>\n",
       "      <td>[4.1036469447054635, 2.1341985345249728, 7.324...</td>\n",
       "      <td>[4.1036469447054635, 2.1341985345249728, 7.324...</td>\n",
       "    </tr>\n",
       "    <tr>\n",
       "      <td>4</td>\n",
       "      <td>41.0</td>\n",
       "      <td>0.0</td>\n",
       "      <td>130.0</td>\n",
       "      <td>204.0</td>\n",
       "      <td>172.0</td>\n",
       "      <td>1.4</td>\n",
       "      <td>1.0</td>\n",
       "      <td>0.0</td>\n",
       "      <td>0.0</td>\n",
       "      <td>1.0</td>\n",
       "      <td>[41.0, 0.0, 130.0, 204.0, 172.0, 1.4, 1.0, 0.0...</td>\n",
       "      <td>1.0</td>\n",
       "      <td>[4.54728445224119, 0.0, 7.324629549805802, 3.9...</td>\n",
       "      <td>[4.54728445224119, 0.0, 7.324629549805802, 3.9...</td>\n",
       "    </tr>\n",
       "  </tbody>\n",
       "</table>\n",
       "</div>"
      ],
      "text/plain": [
       "    age  sex  trestbps   chol  thalach  oldpeak  slope   ca  thalIndex  \\\n",
       "0  63.0  1.0     145.0  233.0    150.0      2.3    3.0  0.0        2.0   \n",
       "1  67.0  1.0     160.0  286.0    108.0      1.5    2.0  3.0        0.0   \n",
       "2  67.0  1.0     120.0  229.0    129.0      2.6    2.0  2.0        1.0   \n",
       "3  37.0  1.0     130.0  250.0    187.0      3.5    3.0  0.0        0.0   \n",
       "4  41.0  0.0     130.0  204.0    172.0      1.4    1.0  0.0        0.0   \n",
       "\n",
       "   target2                                          assembled  label  \\\n",
       "0      1.0  [63.0, 1.0, 145.0, 233.0, 150.0, 2.3, 3.0, 0.0...    1.0   \n",
       "1      2.0  [67.0, 1.0, 160.0, 286.0, 108.0, 1.5, 2.0, 3.0...    2.0   \n",
       "2      1.0  [67.0, 1.0, 120.0, 229.0, 129.0, 2.6, 2.0, 2.0...    1.0   \n",
       "3      1.0  [37.0, 1.0, 130.0, 250.0, 187.0, 3.5, 3.0, 0.0...    1.0   \n",
       "4      1.0  [41.0, 0.0, 130.0, 204.0, 172.0, 1.4, 1.0, 0.0...    1.0   \n",
       "\n",
       "                                              scaled  \\\n",
       "0  [6.987290743687681, 2.1341985345249728, 8.1697...   \n",
       "1  [7.430928251223407, 2.1341985345249728, 9.0149...   \n",
       "2  [7.430928251223407, 2.1341985345249728, 6.7611...   \n",
       "3  [4.1036469447054635, 2.1341985345249728, 7.324...   \n",
       "4  [4.54728445224119, 0.0, 7.324629549805802, 3.9...   \n",
       "\n",
       "                                            features  \n",
       "0  [6.987290743687681, 2.1341985345249728, 8.1697...  \n",
       "1  [7.430928251223407, 2.1341985345249728, 9.0149...  \n",
       "2  [7.430928251223407, 2.1341985345249728, 6.7611...  \n",
       "3  [4.1036469447054635, 2.1341985345249728, 7.324...  \n",
       "4  [4.54728445224119, 0.0, 7.324629549805802, 3.9...  "
      ]
     },
     "execution_count": 15,
     "metadata": {},
     "output_type": "execute_result"
    }
   ],
   "source": [
    "\n",
    "fv.printSchema()\n",
    "fv.limit(5).toPandas()"
   ]
  },
  {
   "cell_type": "markdown",
   "metadata": {},
   "source": [
    "## Step 5 - Split training / validation"
   ]
  },
  {
   "cell_type": "code",
   "execution_count": 16,
   "metadata": {},
   "outputs": [
    {
     "name": "stdout",
     "output_type": "stream",
     "text": [
      "training set count  207\n",
      "validation set count  96\n"
     ]
    }
   ],
   "source": [
    "(training, validation) = fv.randomSplit([0.7,0.3])\n",
    "print(\"training set count \", training.count())\n",
    "print(\"validation set count \", validation.count())"
   ]
  },
  {
   "cell_type": "markdown",
   "metadata": {},
   "source": [
    "## Step 6 - Design Network"
   ]
  },
  {
   "cell_type": "markdown",
   "metadata": {},
   "source": [
    "### 6.1 - Designing the network\n",
    "Here's a picture of a simple neural network, like what we have in this example:\n",
    "\n",
    "\n",
    "\n",
    "As you can see, we have a total of 3 layers:\n",
    "\n",
    "1. Input layer (sized as number of features -- in this case 9 : 'a' -- 'h')\n",
    "2. Hidden Layer (size we have to specify as part of the model).\n",
    "3. Output Layer (Number of output classes we are trying to classify -- in this case 2)"
   ]
  },
  {
   "cell_type": "markdown",
   "metadata": {},
   "source": [
    "## Step  7 -  Create the Network"
   ]
  },
  {
   "cell_type": "markdown",
   "metadata": {},
   "source": [
    "### 7.1 - Network Parameters"
   ]
  },
  {
   "cell_type": "code",
   "execution_count": 21,
   "metadata": {},
   "outputs": [],
   "source": [
    "learning_rate = 0.001\n",
    "training_epochs = 100\n",
    "# batch size should be multiple of number of cores.\n",
    "# So powers of two is a good bet\n",
    "batch_size = 16\n",
    "\n",
    "# Network Parameters\n",
    "n_input = len(feature_columns)\n",
    "n_classes=2\n",
    "n_hidden_1 = 128 # 1st layer number of neurons\n",
    "n_hidden_2 = 128  # 2nd layer number of neurons"
   ]
  },
  {
   "cell_type": "markdown",
   "metadata": {},
   "source": [
    "### 7.2 - setup network"
   ]
  },
  {
   "cell_type": "code",
   "execution_count": 22,
   "metadata": {},
   "outputs": [
    {
     "name": "stdout",
     "output_type": "stream",
     "text": [
      "creating: createSequential\n",
      "creating: createLinear\n",
      "creating: createLinear\n",
      "creating: createLinear\n",
      "creating: createLogSoftMax\n",
      "creating: createClassNLLCriterion\n",
      "creating: createScalarToTensor\n",
      "creating: createSeqToTensor\n",
      "creating: createFeatureLabelPreprocessing\n",
      "creating: createNNClassifier\n",
      "creating: createAdam\n",
      "nn \n",
      " Sequential[8e1a55c]{\n",
      "  [input -> (1) -> (2) -> (3) -> (4) -> output]\n",
      "  (1): Linear[68bb4ab3](9 -> 128)\n",
      "  (2): Linear[2262e234](128 -> 128)\n",
      "  (3): Linear[6d730170](128 -> 2)\n",
      "  (4): LogSoftMax[187fba15]\n",
      "}\n"
     ]
    }
   ],
   "source": [
    "from bigdl.nn.layer import Sequential, Linear, LogSoftMax\n",
    "from bigdl.nn.criterion import ClassNLLCriterion\n",
    "from zoo.pipeline.nnframes import  NNClassifier\n",
    "from bigdl.optim.optimizer import Adam, SGD, Adagrad\n",
    "\n",
    "## 4 layers = input [8] + first hidden [5]  + second hind layer [3] + output [2]\n",
    "nn = Sequential().add(Linear(n_input, n_hidden_1)).\\\n",
    "                  add(Linear(n_hidden_1, n_hidden_2)).\\\n",
    "                  add(Linear(n_hidden_2, n_classes)).\\\n",
    "                  add(LogSoftMax())\n",
    "\n",
    "estimator = NNClassifier(nn, ClassNLLCriterion(), [n_input])\n",
    "\n",
    "estimator.setMaxEpoch(training_epochs)\\\n",
    "            .setBatchSize(batch_size)\\\n",
    "            .setLearningRate(learning_rate)\n",
    "\n",
    "estimator.setLabelCol(\"label\").setFeaturesCol(\"features\")\n",
    "\n",
    "# optimizer method, default is SGD\n",
    "estimator.setOptimMethod(Adam())\n",
    "\n",
    "print (\"nn \\n\", nn)"
   ]
  },
  {
   "cell_type": "markdown",
   "metadata": {},
   "source": [
    "## Step 8 - Train / Predict"
   ]
  },
  {
   "cell_type": "markdown",
   "metadata": {},
   "source": [
    "### 8.1 - Train"
   ]
  },
  {
   "cell_type": "code",
   "execution_count": 23,
   "metadata": {},
   "outputs": [
    {
     "name": "stdout",
     "output_type": "stream",
     "text": [
      "starting training...\n",
      "creating: createToTuple\n",
      "creating: createChainedPreprocessing\n",
      "initial model training finished.\n",
      "CPU times: user 12.7 ms, sys: 624 µs, total: 13.4 ms\n",
      "Wall time: 26.5 s\n"
     ]
    }
   ],
   "source": [
    "%%time \n",
    "\n",
    "## training\n",
    "print (\"starting training...\")\n",
    "model = estimator.fit(training)\n",
    "print(\"initial model training finished.\")"
   ]
  },
  {
   "cell_type": "markdown",
   "metadata": {},
   "source": [
    "### 8.2 -  Prediction"
   ]
  },
  {
   "cell_type": "code",
   "execution_count": 24,
   "metadata": {},
   "outputs": [
    {
     "name": "stdout",
     "output_type": "stream",
     "text": [
      "CPU times: user 788 µs, sys: 4.18 ms, total: 4.97 ms\n",
      "Wall time: 145 ms\n"
     ]
    }
   ],
   "source": [
    "%%time\n",
    "\n",
    "predictions = model.transform(validation)"
   ]
  },
  {
   "cell_type": "code",
   "execution_count": 25,
   "metadata": {},
   "outputs": [
    {
     "name": "stdout",
     "output_type": "stream",
     "text": [
      "+----------+-----+\n",
      "|prediction|count|\n",
      "+----------+-----+\n",
      "|       1.0|   73|\n",
      "|       2.0|   23|\n",
      "+----------+-----+\n",
      "\n"
     ]
    },
    {
     "data": {
      "text/html": [
       "<div>\n",
       "<style scoped>\n",
       "    .dataframe tbody tr th:only-of-type {\n",
       "        vertical-align: middle;\n",
       "    }\n",
       "\n",
       "    .dataframe tbody tr th {\n",
       "        vertical-align: top;\n",
       "    }\n",
       "\n",
       "    .dataframe thead th {\n",
       "        text-align: right;\n",
       "    }\n",
       "</style>\n",
       "<table border=\"1\" class=\"dataframe\">\n",
       "  <thead>\n",
       "    <tr style=\"text-align: right;\">\n",
       "      <th></th>\n",
       "      <th>age</th>\n",
       "      <th>sex</th>\n",
       "      <th>trestbps</th>\n",
       "      <th>chol</th>\n",
       "      <th>thalach</th>\n",
       "      <th>oldpeak</th>\n",
       "      <th>slope</th>\n",
       "      <th>ca</th>\n",
       "      <th>thalIndex</th>\n",
       "      <th>target2</th>\n",
       "      <th>assembled</th>\n",
       "      <th>label</th>\n",
       "      <th>scaled</th>\n",
       "      <th>features</th>\n",
       "      <th>prediction</th>\n",
       "    </tr>\n",
       "  </thead>\n",
       "  <tbody>\n",
       "    <tr>\n",
       "      <td>0</td>\n",
       "      <td>52.0</td>\n",
       "      <td>1.0</td>\n",
       "      <td>118.0</td>\n",
       "      <td>186.0</td>\n",
       "      <td>190.0</td>\n",
       "      <td>0.0</td>\n",
       "      <td>2.0</td>\n",
       "      <td>0.0</td>\n",
       "      <td>2.0</td>\n",
       "      <td>1.0</td>\n",
       "      <td>[52.0, 1.0, 118.0, 186.0, 190.0, 0.0, 2.0, 0.0...</td>\n",
       "      <td>1.0</td>\n",
       "      <td>[5.767287597964435, 2.1341985345249728, 6.6485...</td>\n",
       "      <td>[5.767287597964435, 2.1341985345249728, 6.6485...</td>\n",
       "      <td>1.0</td>\n",
       "    </tr>\n",
       "    <tr>\n",
       "      <td>1</td>\n",
       "      <td>56.0</td>\n",
       "      <td>1.0</td>\n",
       "      <td>120.0</td>\n",
       "      <td>240.0</td>\n",
       "      <td>169.0</td>\n",
       "      <td>0.0</td>\n",
       "      <td>3.0</td>\n",
       "      <td>0.0</td>\n",
       "      <td>0.0</td>\n",
       "      <td>1.0</td>\n",
       "      <td>[56.0, 1.0, 120.0, 240.0, 169.0, 0.0, 3.0, 0.0...</td>\n",
       "      <td>1.0</td>\n",
       "      <td>[6.210925105500161, 2.1341985345249728, 6.7611...</td>\n",
       "      <td>[6.210925105500161, 2.1341985345249728, 6.7611...</td>\n",
       "      <td>1.0</td>\n",
       "    </tr>\n",
       "    <tr>\n",
       "      <td>2</td>\n",
       "      <td>57.0</td>\n",
       "      <td>1.0</td>\n",
       "      <td>152.0</td>\n",
       "      <td>274.0</td>\n",
       "      <td>88.0</td>\n",
       "      <td>1.2</td>\n",
       "      <td>2.0</td>\n",
       "      <td>1.0</td>\n",
       "      <td>1.0</td>\n",
       "      <td>1.0</td>\n",
       "      <td>[57.0, 1.0, 152.0, 274.0, 88.0, 1.2, 2.0, 1.0,...</td>\n",
       "      <td>1.0</td>\n",
       "      <td>[6.321834482384093, 2.1341985345249728, 8.5641...</td>\n",
       "      <td>[6.321834482384093, 2.1341985345249728, 8.5641...</td>\n",
       "      <td>2.0</td>\n",
       "    </tr>\n",
       "    <tr>\n",
       "      <td>3</td>\n",
       "      <td>58.0</td>\n",
       "      <td>1.0</td>\n",
       "      <td>120.0</td>\n",
       "      <td>284.0</td>\n",
       "      <td>160.0</td>\n",
       "      <td>1.8</td>\n",
       "      <td>2.0</td>\n",
       "      <td>0.0</td>\n",
       "      <td>0.0</td>\n",
       "      <td>1.0</td>\n",
       "      <td>[58.0, 1.0, 120.0, 284.0, 160.0, 1.8, 2.0, 0.0...</td>\n",
       "      <td>1.0</td>\n",
       "      <td>[6.432743859268024, 2.1341985345249728, 6.7611...</td>\n",
       "      <td>[6.432743859268024, 2.1341985345249728, 6.7611...</td>\n",
       "      <td>1.0</td>\n",
       "    </tr>\n",
       "    <tr>\n",
       "      <td>4</td>\n",
       "      <td>58.0</td>\n",
       "      <td>1.0</td>\n",
       "      <td>150.0</td>\n",
       "      <td>270.0</td>\n",
       "      <td>111.0</td>\n",
       "      <td>0.8</td>\n",
       "      <td>1.0</td>\n",
       "      <td>0.0</td>\n",
       "      <td>1.0</td>\n",
       "      <td>2.0</td>\n",
       "      <td>[58.0, 1.0, 150.0, 270.0, 111.0, 0.8, 1.0, 0.0...</td>\n",
       "      <td>2.0</td>\n",
       "      <td>[6.432743859268024, 2.1341985345249728, 8.4514...</td>\n",
       "      <td>[6.432743859268024, 2.1341985345249728, 8.4514...</td>\n",
       "      <td>1.0</td>\n",
       "    </tr>\n",
       "  </tbody>\n",
       "</table>\n",
       "</div>"
      ],
      "text/plain": [
       "    age  sex  trestbps   chol  thalach  oldpeak  slope   ca  thalIndex  \\\n",
       "0  52.0  1.0     118.0  186.0    190.0      0.0    2.0  0.0        2.0   \n",
       "1  56.0  1.0     120.0  240.0    169.0      0.0    3.0  0.0        0.0   \n",
       "2  57.0  1.0     152.0  274.0     88.0      1.2    2.0  1.0        1.0   \n",
       "3  58.0  1.0     120.0  284.0    160.0      1.8    2.0  0.0        0.0   \n",
       "4  58.0  1.0     150.0  270.0    111.0      0.8    1.0  0.0        1.0   \n",
       "\n",
       "   target2                                          assembled  label  \\\n",
       "0      1.0  [52.0, 1.0, 118.0, 186.0, 190.0, 0.0, 2.0, 0.0...    1.0   \n",
       "1      1.0  [56.0, 1.0, 120.0, 240.0, 169.0, 0.0, 3.0, 0.0...    1.0   \n",
       "2      1.0  [57.0, 1.0, 152.0, 274.0, 88.0, 1.2, 2.0, 1.0,...    1.0   \n",
       "3      1.0  [58.0, 1.0, 120.0, 284.0, 160.0, 1.8, 2.0, 0.0...    1.0   \n",
       "4      2.0  [58.0, 1.0, 150.0, 270.0, 111.0, 0.8, 1.0, 0.0...    2.0   \n",
       "\n",
       "                                              scaled  \\\n",
       "0  [5.767287597964435, 2.1341985345249728, 6.6485...   \n",
       "1  [6.210925105500161, 2.1341985345249728, 6.7611...   \n",
       "2  [6.321834482384093, 2.1341985345249728, 8.5641...   \n",
       "3  [6.432743859268024, 2.1341985345249728, 6.7611...   \n",
       "4  [6.432743859268024, 2.1341985345249728, 8.4514...   \n",
       "\n",
       "                                            features  prediction  \n",
       "0  [5.767287597964435, 2.1341985345249728, 6.6485...         1.0  \n",
       "1  [6.210925105500161, 2.1341985345249728, 6.7611...         1.0  \n",
       "2  [6.321834482384093, 2.1341985345249728, 8.5641...         2.0  \n",
       "3  [6.432743859268024, 2.1341985345249728, 6.7611...         1.0  \n",
       "4  [6.432743859268024, 2.1341985345249728, 8.4514...         1.0  "
      ]
     },
     "execution_count": 25,
     "metadata": {},
     "output_type": "execute_result"
    }
   ],
   "source": [
    "predictions.groupBy(\"prediction\").count().show()\n",
    "predictions.sample(False, 0.1).limit(5).toPandas()"
   ]
  },
  {
   "cell_type": "markdown",
   "metadata": {},
   "source": [
    "## Step 9 - Evalauating"
   ]
  },
  {
   "cell_type": "markdown",
   "metadata": {},
   "source": [
    "### 9.1 - Basic Eval"
   ]
  },
  {
   "cell_type": "code",
   "execution_count": 26,
   "metadata": {},
   "outputs": [
    {
     "name": "stdout",
     "output_type": "stream",
     "text": [
      "matching predictions  82\n",
      "missed predictions  14\n"
     ]
    }
   ],
   "source": [
    "print (\"matching predictions \", predictions.filter(\"prediction == label\").count())\n",
    "print (\"missed predictions \", predictions.filter(\"prediction != label\").count())"
   ]
  },
  {
   "cell_type": "markdown",
   "metadata": {},
   "source": [
    "### 9.2 - Accuracy, Precision, AUC"
   ]
  },
  {
   "cell_type": "code",
   "execution_count": 27,
   "metadata": {},
   "outputs": [
    {
     "name": "stdout",
     "output_type": "stream",
     "text": [
      "Area under precision-recall curve =  1.0\n",
      "recall =  0.8541666666666666\n",
      "Precision =  0.8541666666666666\n",
      "accuracy =  0.8541666666666666\n"
     ]
    }
   ],
   "source": [
    "from pyspark.ml.evaluation import BinaryClassificationEvaluator, MulticlassClassificationEvaluator\n",
    "\n",
    "evaluator = BinaryClassificationEvaluator(rawPredictionCol=\"prediction\")\n",
    "auPRC = evaluator.evaluate(predictions)\n",
    "print(\"Area under precision-recall curve = \" , auPRC)\n",
    "    \n",
    "recall = MulticlassClassificationEvaluator(metricName=\"weightedRecall\").evaluate(predictions)\n",
    "print(\"recall = \" , recall)\n",
    "\n",
    "precision = MulticlassClassificationEvaluator(metricName=\"weightedPrecision\").evaluate(predictions)\n",
    "print(\"Precision = \", precision)\n",
    "\n",
    "accuracy = MulticlassClassificationEvaluator(labelCol=\"label\", predictionCol=\"prediction\", metricName=\"accuracy\").\\\n",
    "            evaluate(predictions)\n",
    "print(\"accuracy = \",  accuracy)"
   ]
  },
  {
   "cell_type": "markdown",
   "metadata": {},
   "source": [
    "### 9.3 - Confusion Matrix"
   ]
  },
  {
   "cell_type": "code",
   "execution_count": 28,
   "metadata": {},
   "outputs": [
    {
     "name": "stdout",
     "output_type": "stream",
     "text": [
      "+-----+---+---+\n",
      "|label|  1|  2|\n",
      "+-----+---+---+\n",
      "|  1.0| 66|  7|\n",
      "|  2.0|  7| 16|\n",
      "+-----+---+---+\n",
      "\n"
     ]
    }
   ],
   "source": [
    "# Confusion matrix\n",
    "# we use Spark to calculate confusion matrix as the prediction set can be rather large\n",
    "cm = predictions.groupBy('label').pivot('prediction', [1,2]).count().na.fill(0).orderBy('label')\n",
    "cm.show()"
   ]
  },
  {
   "cell_type": "code",
   "execution_count": 29,
   "metadata": {},
   "outputs": [
    {
     "data": {
      "image/png": "[encoded data removed]",
      "text/plain": [
       "<Figure size 720x576 with 2 Axes>"
      ]
     },
     "metadata": {
      "needs_background": "light"
     },
     "output_type": "display_data"
    }
   ],
   "source": [
    "# basic imports\n",
    "\n",
    "import matplotlib.pyplot as plt\n",
    "import seaborn as sn\n",
    "\n",
    "cm_pd = cm.toPandas()\n",
    "# print(cm_pd)\n",
    "cm_pd = cm_pd.set_index('label')  # make 'label' as index\n",
    "# print(cm_pd)\n",
    "\n",
    "plt.figure(figsize = (10,8))\n",
    "sn.heatmap(cm_pd, annot=True,fmt='d');"
   ]
  },
  {
   "cell_type": "markdown",
   "metadata": {},
   "source": [
    "## Step 10 - Experiment\n",
    "Try the following :\n",
    "- increase number of hidden layers (3 --> 4 --> 5)\n",
    "- you can also adjust the number of neurons on each \n",
    "\n",
    "See if you can improve the accuracy and confusion matrix."
   ]
  },
  {
   "cell_type": "code",
   "execution_count": null,
   "metadata": {},
   "outputs": [],
   "source": []
  }
 ],
 "metadata": {
  "kernelspec": {
   "display_name": "Python 3",
   "language": "python",
   "name": "python3"
  },
  "language_info": {
   "codemirror_mode": {
    "name": "ipython",
    "version": 3
   },
   "file_extension": ".py",
   "mimetype": "text/x-python",
   "name": "python",
   "nbconvert_exporter": "python",
   "pygments_lexer": "ipython3",
   "version": "3.6.7"
  }
 },
 "nbformat": 4,
 "nbformat_minor": 2
}
